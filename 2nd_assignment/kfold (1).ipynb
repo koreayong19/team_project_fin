{
 "cells": [
  {
   "cell_type": "markdown",
   "id": "6c50f01a-72fd-4804-9f54-d77b52d3991f",
   "metadata": {},
   "source": [
    "# [모의 캐글-의료] 흉부 CT 코로나 감염 여부 분류\n",
    "- 이미지 binary 분류 과제\n",
    "- 담당: 이녕민M"
   ]
  },
  {
   "cell_type": "markdown",
   "id": "f51ba7c1-0393-47ec-89d9-f6f97072773b",
   "metadata": {},
   "source": [
    "## Import Libraries"
   ]
  },
  {
   "cell_type": "code",
   "execution_count": 30,
   "id": "e4325d39-6344-4116-b343-df51696905ec",
   "metadata": {
    "tags": []
   },
   "outputs": [
    {
     "name": "stdout",
     "output_type": "stream",
     "text": [
      "Get:1 http://security.ubuntu.com/ubuntu bionic-security InRelease [88.7 kB]\n",
      "Ign:2 https://developer.download.nvidia.com/compute/cuda/repos/ubuntu1804/x86_64  InRelease\n",
      "Ign:3 https://developer.download.nvidia.com/compute/machine-learning/repos/ubuntu1804/x86_64  InRelease\n",
      "Hit:4 https://developer.download.nvidia.com/compute/cuda/repos/ubuntu1804/x86_64  Release\n",
      "Hit:5 https://developer.download.nvidia.com/compute/machine-learning/repos/ubuntu1804/x86_64  Release\n",
      "Hit:6 http://archive.ubuntu.com/ubuntu bionic InRelease                        \n",
      "Get:8 http://archive.ubuntu.com/ubuntu bionic-updates InRelease [88.7 kB]      \n",
      "Get:10 http://security.ubuntu.com/ubuntu bionic-security/main amd64 Packages [2564 kB]\n",
      "Get:11 http://archive.ubuntu.com/ubuntu bionic-backports InRelease [74.6 kB]   \n",
      "Get:12 http://archive.ubuntu.com/ubuntu bionic-updates/main amd64 Packages [3002 kB]\n",
      "Get:13 http://security.ubuntu.com/ubuntu bionic-security/universe amd64 Packages [1468 kB]\n",
      "Get:14 http://security.ubuntu.com/ubuntu bionic-security/restricted amd64 Packages [783 kB]\n",
      "Get:15 http://archive.ubuntu.com/ubuntu bionic-updates/universe amd64 Packages [2247 kB]\n",
      "Fetched 10.3 MB in 4s (2508 kB/s)                           \n",
      "Reading package lists... Done\n",
      "Reading package lists... Done\n",
      "Building dependency tree       \n",
      "Reading state information... Done\n",
      "python3-opencv is already the newest version (3.2.0+dfsg-4ubuntu0.1).\n",
      "0 upgraded, 0 newly installed, 0 to remove and 78 not upgraded.\n"
     ]
    }
   ],
   "source": [
    "#!apt-get update && apt-get install -y python3-opencv"
   ]
  },
  {
   "cell_type": "code",
   "execution_count": 31,
   "id": "c541d56e-7985-49f3-99fe-25378f084196",
   "metadata": {},
   "outputs": [
    {
     "name": "stdout",
     "output_type": "stream",
     "text": [
      "Requirement already satisfied: opencv-python in /opt/conda/lib/python3.8/site-packages (4.5.5.62)\n",
      "Requirement already satisfied: numpy>=1.14.5; python_version >= \"3.7\" in /opt/conda/lib/python3.8/site-packages (from opencv-python) (1.19.2)\n",
      "Note: you may need to restart the kernel to use updated packages.\n"
     ]
    }
   ],
   "source": [
    "#pip install opencv-python\n"
   ]
  },
  {
   "cell_type": "code",
   "execution_count": 32,
   "id": "6f475804-13db-484c-a348-f01580e80a1e",
   "metadata": {
    "tags": []
   },
   "outputs": [
    {
     "name": "stdout",
     "output_type": "stream",
     "text": [
      "Requirement already satisfied: sklearn in /opt/conda/lib/python3.8/site-packages (0.0)\n",
      "Requirement already satisfied: scikit-learn in /opt/conda/lib/python3.8/site-packages (from sklearn) (1.0.2)\n",
      "Requirement already satisfied: joblib>=0.11 in /opt/conda/lib/python3.8/site-packages (from scikit-learn->sklearn) (1.1.0)\n",
      "Requirement already satisfied: threadpoolctl>=2.0.0 in /opt/conda/lib/python3.8/site-packages (from scikit-learn->sklearn) (3.1.0)\n",
      "Requirement already satisfied: scipy>=1.1.0 in /opt/conda/lib/python3.8/site-packages (from scikit-learn->sklearn) (1.8.0)\n",
      "Requirement already satisfied: numpy>=1.14.6 in /opt/conda/lib/python3.8/site-packages (from scikit-learn->sklearn) (1.19.2)\n"
     ]
    }
   ],
   "source": [
    "#!pip install sklearn"
   ]
  },
  {
   "cell_type": "code",
   "execution_count": 1,
   "id": "98a45c7e-10ca-4fd1-9fd4-6326313a631a",
   "metadata": {},
   "outputs": [],
   "source": [
    "import os, torch, copy, cv2, sys, random\n",
    "# from datetime import datetime, timezone, timedelta\n",
    "from PIL import Image\n",
    "import numpy as np\n",
    "import pandas as pd\n",
    "from tqdm import tqdm\n",
    "import torch\n",
    "import torch.nn as nn\n",
    "import torch.optim as optim\n",
    "# from torch.utils.data import DataLoader, Dataset\n",
    "from torch.utils.data import Dataset, DataLoader,TensorDataset,random_split,SubsetRandomSampler, ConcatDataset\n",
    "from sklearn.model_selection import KFold\n",
    "\n",
    "import torchvision.transforms as transforms\n",
    "\n",
    "import albumentations\n",
    "from albumentations.pytorch import ToTensorV2"
   ]
  },
  {
   "cell_type": "markdown",
   "id": "3a6c255b-b30d-4ffd-a663-bc01a2c37954",
   "metadata": {},
   "source": [
    "## Set Arguments & hyperparameters"
   ]
  },
  {
   "cell_type": "code",
   "execution_count": 2,
   "id": "8f9c4250-2257-404f-941d-58eff1e9eb38",
   "metadata": {},
   "outputs": [],
   "source": [
    "# 시드(seed) 설정\n",
    "\n",
    "RANDOM_SEED = 2022\n",
    "\n",
    "torch.manual_seed(RANDOM_SEED)\n",
    "torch.backends.cudnn.deterministic = True\n",
    "torch.backends.cudnn.benchmark = False\n",
    "np.random.seed(RANDOM_SEED)\n",
    "random.seed(RANDOM_SEED)"
   ]
  },
  {
   "cell_type": "code",
   "execution_count": 4,
   "id": "9d69a8bc-2e64-4de6-928f-4e16957f6af9",
   "metadata": {},
   "outputs": [],
   "source": [
    "# parameters\n",
    "\n",
    "### 데이터 디렉토리 설정 ###\n",
    "DATA_DIR= 'data'\n",
    "NUM_CLS = 2\n",
    "\n",
    "EPOCHS = 20\n",
    "BATCH_SIZE = 32\n",
    "LEARNING_RATE = 0.0005\n",
    "EARLY_STOPPING_PATIENCE = 15\n",
    "INPUT_SHAPE = 512\n",
    "\n",
    "####\n",
    "k = 5\n",
    "\n",
    "\n",
    "os.environ[\"CUDA_VISIBLE_DEVICES\"]=\"0\"\n",
    "DEVICE = torch.device('cuda' if torch.cuda.is_available() else 'cpu')"
   ]
  },
  {
   "cell_type": "code",
   "execution_count": 5,
   "id": "7ed48d4e-fdbb-4f56-b7da-69af8990a074",
   "metadata": {},
   "outputs": [
    {
     "name": "stdout",
     "output_type": "stream",
     "text": [
      "(384, 384) (384, 384, 3)\n"
     ]
    },
    {
     "data": {
      "image/png": "[encoded data removed]",
      "text/plain": [
       "<Figure size 432x288 with 1 Axes>"
      ]
     },
     "metadata": {
      "needs_background": "light"
     },
     "output_type": "display_data"
    }
   ],
   "source": [
    "import matplotlib.pyplot as plt\n",
    "\n",
    "img = cv2.imread('data/train/1.png', cv2.IMREAD_COLOR | cv2.IMREAD_IGNORE_ORIENTATION)\n",
    "img = cv2.cvtColor(img, cv2.COLOR_BGR2RGB)\n",
    "\n",
    "\n",
    "img2 = cv2.imread('data/train/1.png', cv2.IMREAD_GRAYSCALE|cv2.IMREAD_IGNORE_ORIENTATION)\n",
    "\n",
    "print(img2.shape, img.shape)\n",
    "hist = cv2.calcHist([img],[0],None,[256],[0,256])\n",
    "plt.hist(img.ravel(), 256, [0,256])\n",
    "plt.show()"
   ]
  },
  {
   "cell_type": "code",
   "execution_count": 6,
   "id": "a4fa7994-ae72-4fca-b079-683c74bbb065",
   "metadata": {},
   "outputs": [
    {
     "data": {
      "image/png": "[encoded data removed]",
      "text/plain": [
       "<Figure size 432x288 with 2 Axes>"
      ]
     },
     "metadata": {
      "needs_background": "light"
     },
     "output_type": "display_data"
    }
   ],
   "source": [
    "\n",
    "transform = albumentations.Compose([\n",
    "    albumentations.Resize(512, 512),\n",
    "    albumentations.CenterCrop(512, 512),\n",
    "    albumentations.RandomBrightnessContrast(brightness_by_max=False),\n",
    "    albumentations.CLAHE(clip_limit=(1,2))\n",
    "])\n",
    "\n",
    "augmentations = transform(image = img)\n",
    "augmentation_img = augmentations[\"image\"]\n",
    "\n",
    "fig = plt.figure()\n",
    "rows = 1\n",
    "cols = 2\n",
    "\n",
    "ax1 = fig.add_subplot(rows, cols, 1)\n",
    "ax1.imshow(img)\n",
    "ax1.set_title('original')\n",
    "ax1.axis(\"off\")\n",
    " \n",
    "ax2 = fig.add_subplot(rows, cols, 2)\n",
    "ax2.imshow(augmentation_img)\n",
    "ax2.set_title('croped')\n",
    "ax2.axis(\"off\")\n",
    " \n",
    "plt.show()"
   ]
  },
  {
   "cell_type": "markdown",
   "id": "d44807b0-7788-49ec-aff2-c756e4513c5e",
   "metadata": {},
   "source": [
    "## Dataloader"
   ]
  },
  {
   "cell_type": "markdown",
   "id": "a5b81fa5-3756-46aa-b3cb-6f19879aba05",
   "metadata": {
    "tags": []
   },
   "source": [
    "#### Train & Validation Set loader"
   ]
  },
  {
   "cell_type": "code",
   "execution_count": 48,
   "id": "04642777-c2e0-439b-9692-f6c571a86521",
   "metadata": {},
   "outputs": [],
   "source": [
    "# torch.utils.data 안의 Dataset 상속\n",
    "class CustomDataset(Dataset):\n",
    "    def __init__(self, data_dir, mode, input_shape):\n",
    "        self.data_dir = data_dir\n",
    "        self.mode = mode\n",
    "        self.input_shape = input_shape\n",
    "        \n",
    "        # Loading dataset\n",
    "        self.db = self.data_loader()\n",
    "        \n",
    "        # Dataset split\n",
    "        if self.mode == 'train':\n",
    "            self.db = self.db[:int(len(self.db) * 0.8)]\n",
    "        elif self.mode == 'val':\n",
    "            self.db = self.db[int(len(self.db) * 0.8):]\n",
    "            self.db.reset_index(inplace=True)\n",
    "        else:\n",
    "            print(f'!!! Invalid split {self.mode}... !!!')\n",
    "            \n",
    "        # Transform function\n",
    "        \n",
    "        self.transform = albumentations.Compose([albumentations.Resize(512, 512), \n",
    "                                                 albumentations.RandomCrop(500, 500),\n",
    "                                                  # Same with transforms.RandomHorizontalFlip()\n",
    "                                                 \n",
    "                                                albumentations.OneOf([\n",
    "                                                        albumentations.GridDistortion(),\n",
    "                                                        albumentations.RandomBrightnessContrast(p=0.8)\n",
    "                                                ]),\n",
    "                                                albumentations.HorizontalFlip(),\n",
    "                                                albumentations.VerticalFlip(),\n",
    "                                                albumentations.RandomBrightness(),\n",
    "                                                albumentations.CLAHE(),\n",
    "                                                # albumentations.RandomBrightnessContrast(brightness_by_max=False),\n",
    "                                                # albumentations.CLAHE(clip_limit=(1,2)),\n",
    "                                                 # Normalize default 값을 쓰는데 각 채널의 평균, 표준편차를 구할 수 있나?\n",
    "                                                albumentations.Normalize([0.485, 0.456, 0.406], [0.229, 0.224, 0.225]),\n",
    "                                                albumentations.pytorch.transforms.ToTensorV2()])\n",
    "#         self.transform = transforms.Compose([transforms.Resize(self.input_shape),\n",
    "#                 # ToTensor() -> torch.Float.Tensor 로 바꾸면서 (C x H x W) 순서와 0.0 ~ 1.0사이의 값들로 변환\n",
    "#                                              transforms.ToTensor(),\n",
    "#                                              transforms.Normalize([0.485, 0.456, 0.406], [0.229, 0.224, 0.225])])\n",
    "        \n",
    "         \n",
    "        \n",
    "\n",
    "    def data_loader(self):\n",
    "        print('Loading ' + self.mode + ' dataset..')\n",
    "        if not os.path.isdir(self.data_dir):\n",
    "            print(f'!!! Cannot find {self.data_dir}... !!!')\n",
    "            sys.exit()\n",
    "        \n",
    "        # (COVID : 1, No : 0)\n",
    "        db = pd.read_csv(os.path.join(self.data_dir, 'train.csv'))\n",
    "        \n",
    "        return db\n",
    "\n",
    "    def __len__(self):\n",
    "        return len(self.db)\n",
    "    # 인덱싱 을 통하여 이미지 전처리 가능하게\n",
    "    def __getitem__(self, index):\n",
    "        # data에 db의 데이터 프레임의 값만 복사해와서 할당\n",
    "        data = copy.deepcopy(self.db.loc[index])\n",
    "\n",
    "        # Loading image (cvimg type -> numpy의 ndarray type (height, width, channel)\n",
    "        # 데이터가 다 흑백인데 왜 cv2.IMREAD_COLOR 쓰는가? IMREAD_GRAYSCALE 써도 되는거 아닌가..\n",
    "        # cv2.IMREAD_IGNORE_ORIENTATION -> exif의 방향데이터 사용 X\n",
    "        cvimg = cv2.imread(os.path.join(self.data_dir,'train',data['file_name']), cv2.IMREAD_COLOR | cv2.IMREAD_IGNORE_ORIENTATION)\n",
    "        # cvimg 가 numpy의 ndarray type 형식인지 확인 -> 어떤 경우 에러를 뱉어내나..?\n",
    "        if not isinstance(cvimg, np.ndarray):\n",
    "            raise IOError(\"Fail to read %s\" % data['file_name'])\n",
    "\n",
    "        # Preprocessing images\n",
    "        # trans_image = self.transform(Image.fromarray(cvimg))\n",
    "        # image = cv2.cvtColor(cvimg, cv2.COLOR_BGR2RGB)\n",
    "        trans_image = self.transform(image = cvimg)\n",
    "        trans_image = trans_image['image']\n",
    "\n",
    "        return trans_image, data['COVID']\n"
   ]
  },
  {
   "cell_type": "markdown",
   "id": "61b27520-c82c-4ec8-ae0b-119a79167f09",
   "metadata": {
    "tags": []
   },
   "source": [
    "## Model"
   ]
  },
  {
   "cell_type": "code",
   "execution_count": 49,
   "id": "685e0b73-f323-40ea-b372-6c1d607618a9",
   "metadata": {},
   "outputs": [],
   "source": [
    "# import torch.nn.functional as F\n",
    "\n",
    "# class custom_CNN(nn.Module):\n",
    "#     def __init__(self, num_classes):\n",
    "#         super(custom_CNN, self).__init__()\n",
    "        \n",
    "#         self.conv1 = nn.Conv2d(in_channels=3, out_channels=8, kernel_size=5)\n",
    "        \n",
    "#         self.pool = nn.MaxPool2d(kernel_size=2)\n",
    "#         self.conv2 = nn.Conv2d(in_channels=8, out_channels=25, kernel_size=5)\n",
    "        \n",
    "#         self.fc1 = nn.Linear(in_features=25*29*29, out_features=128)\n",
    "#         self.fc2 = nn.Linear(in_features=128, out_features=num_classes)\n",
    "#         self.softmax = nn.Softmax(dim=1)\n",
    "        \n",
    "#     def forward(self, x):\n",
    "#         x = self.pool(F.relu(self.conv1(x))) # (32, 3, 128, 128) -> (32, 8, 62, 62)\n",
    "#         x = self.pool(F.relu(self.conv2(x))) # (32, 8, 62, 62) -> (32, 25, 29, 29)\n",
    "        \n",
    "#         x = torch.flatten(x,1)\n",
    "#         x = F.relu(self.fc1(x))\n",
    "#         x = F.relu(self.fc2(x))\n",
    "        \n",
    "#         output = self.softmax(x)\n",
    "        \n",
    "#         return output"
   ]
  },
  {
   "cell_type": "code",
   "execution_count": 50,
   "id": "ed1ce6eb-79f3-41fe-94df-cee6e2b8743b",
   "metadata": {},
   "outputs": [],
   "source": [
    "# import torchvision.models as models\n",
    "\n",
    "# class resnet(nn.Module):\n",
    "#     def __init__(self, numclasses):\n",
    "#         super(resnet, self).__init__()\n",
    "#         self.model = models.resnet18(pretrained=False)\n",
    "#         self.model.fc = nn.Linear(self.model.fc.in_features, numclasses)\n",
    "#         self.softmax = nn.Softmax(dim=1)\n",
    "        \n",
    "#     def forward(self, input_img):\n",
    "#         x = self.model(input_img)\n",
    "#         x = self.softmax(x)\n",
    "#         return x"
   ]
  },
  {
   "cell_type": "code",
   "execution_count": 51,
   "id": "3a58c9ba-6eb3-43b9-8133-13329ea1fc46",
   "metadata": {},
   "outputs": [],
   "source": [
    "# import torchvision.models as models\n",
    "\n",
    "# class resnet34(nn.Module):\n",
    "#     def __init__(self, numclasses):\n",
    "#         super(resnet34, self).__init__()\n",
    "#         self.model = models.resnet34(pretrained=False)\n",
    "#         self.model.fc = nn.Linear(self.model.fc.in_features, numclasses)\n",
    "#         self.softmax = nn.Softmax(dim=1)\n",
    "        \n",
    "#     def forward(self, input_img):\n",
    "#         x = self.model(input_img)\n",
    "#         x = self.softmax(x)\n",
    "#         return x"
   ]
  },
  {
   "cell_type": "code",
   "execution_count": 52,
   "id": "b860d59c-089d-4ae8-8296-2c3adf45d299",
   "metadata": {},
   "outputs": [],
   "source": [
    "import torchvision.models as models\n",
    "\n",
    "class resnet(nn.Module):\n",
    "    def __init__(self, numclasses):\n",
    "        super(resnet, self).__init__()\n",
    "        self.model = models.resnet34(pretrained=False)\n",
    "        self.model.fc = nn.Linear(self.model.fc.in_features, numclasses)\n",
    "        self.softmax = nn.Softmax(dim=1)\n",
    "        \n",
    "    def forward(self, input_img):\n",
    "        x = self.model(input_img)\n",
    "        x = self.softmax(x)\n",
    "        return x"
   ]
  },
  {
   "cell_type": "markdown",
   "id": "1d056905-1f77-4579-a260-07bb1056f6db",
   "metadata": {
    "tags": []
   },
   "source": [
    "## Utils\n",
    "### EarlyStopper"
   ]
  },
  {
   "cell_type": "code",
   "execution_count": 53,
   "id": "1b4c3315-ebca-4e6b-a8f2-1281ccd0bb87",
   "metadata": {},
   "outputs": [],
   "source": [
    "class LossEarlyStopper():\n",
    "    \"\"\"Early stopper\n",
    "    \n",
    "    Attributes:\n",
    "        patience (int): loss가 줄어들지 않아도 학습할 epoch 수\n",
    "        patience_counter (int): loss 가 줄어들지 않을 때 마다 1씩 증가, 감소 시 0으로 리셋\n",
    "        min_loss (float): 최소 loss\n",
    "        stop (bool): True 일 때 학습 중단\n",
    "\n",
    "    \"\"\"\n",
    "\n",
    "    def __init__(self, patience: int)-> None:\n",
    "        self.patience = patience\n",
    "\n",
    "        self.patience_counter = 0\n",
    "        self.min_loss = np.Inf\n",
    "        self.stop = False\n",
    "        self.save_model = False\n",
    "\n",
    "    def check_early_stopping(self, loss: float)-> None:\n",
    "        \"\"\"Early stopping 여부 판단\"\"\"  \n",
    "\n",
    "        if self.min_loss == np.Inf:\n",
    "            self.min_loss = loss\n",
    "            return None\n",
    "\n",
    "        elif loss > self.min_loss:\n",
    "            self.patience_counter += 1\n",
    "            msg = f\"Early stopping counter {self.patience_counter}/{self.patience}\"\n",
    "\n",
    "            if self.patience_counter == self.patience:\n",
    "                self.stop = True\n",
    "                \n",
    "        elif loss <= self.min_loss:\n",
    "            self.patience_counter = 0\n",
    "            self.save_model = True\n",
    "            msg = f\"Validation loss decreased {self.min_loss} -> {loss}\"\n",
    "            self.min_loss = loss\n",
    "        \n",
    "        print(msg)"
   ]
  },
  {
   "cell_type": "markdown",
   "id": "1aaffd8d-b025-42c1-8dd8-69529487389e",
   "metadata": {},
   "source": [
    "### Trainer"
   ]
  },
  {
   "cell_type": "code",
   "execution_count": 54,
   "id": "5faaac1b-64c3-4659-82de-d4309502f29a",
   "metadata": {},
   "outputs": [],
   "source": [
    "class Trainer_f():\n",
    "    \"\"\" epoch에 대한 학습 및 검증 절차 정의\"\"\"\n",
    "    \n",
    "    def __init__(self, loss_fn, model, device, metric_fn, optimizer=None, scheduler=None):\n",
    "        \"\"\" 초기화\n",
    "        \"\"\"\n",
    "        self.loss_fn = loss_fn\n",
    "        self.model = model\n",
    "        self.device = device\n",
    "        self.optimizer = optimizer\n",
    "        self.scheduler = scheduler\n",
    "        self.metric_fn = metric_fn\n",
    "\n",
    "    def train_epoch(self, fold, dataloader, epoch_index):\n",
    "        \"\"\" 한 epoch에서 수행되는 학습 절차\"\"\"\n",
    "        \n",
    "        self.model.train()\n",
    "        train_total_loss = 0\n",
    "        target_lst = []\n",
    "        pred_lst = []\n",
    "        prob_lst = []\n",
    "\n",
    "        for batch_index, (img, label) in enumerate(dataloader):\n",
    "            img = img.to(self.device)\n",
    "            label = label.to(self.device).float()\n",
    "            \n",
    "            pred = self.model(img)\n",
    "            \n",
    "            loss = self.loss_fn(pred[:,1], label)\n",
    "            \n",
    "            self.optimizer.zero_grad()\n",
    "            loss.backward()\n",
    "            self.optimizer.step()\n",
    "            \n",
    "            self.scheduler.step()\n",
    "            \n",
    "            train_total_loss += loss.item()\n",
    "            prob_lst.extend(pred[:, 1].cpu().tolist())\n",
    "            target_lst.extend(label.cpu().tolist())\n",
    "            pred_lst.extend(pred.argmax(dim=1).cpu().tolist())\n",
    "            \n",
    "        self.train_mean_loss = train_total_loss / batch_index\n",
    "        self.train_score, f1 = self.metric_fn(y_pred=pred_lst, y_answer=target_lst)\n",
    "        msg = f'Fold{fold +1} /Epoch{epoch_index}, Train loss: {self.train_mean_loss}, Acc: {self.train_score}, F1-Macro: {f1}'\n",
    "        print(msg)\n",
    "\n",
    "    def validate_epoch(self, fold, dataloader, epoch_index):\n",
    "        \"\"\" 한 epoch에서 수행되는 검증 절차\n",
    "        \"\"\"\n",
    "        self.model.eval()\n",
    "        val_total_loss = 0\n",
    "        target_lst = []\n",
    "        pred_lst = []\n",
    "        prob_lst = []\n",
    "\n",
    "        for batch_index, (img, label) in enumerate(dataloader):\n",
    "            img = img.to(self.device)\n",
    "            label = label.to(self.device).float()\n",
    "            pred = self.model(img)\n",
    "            \n",
    "            loss = self.loss_fn(pred[:,1], label)\n",
    "            val_total_loss += loss.item()\n",
    "            prob_lst.extend(pred[:, 1].cpu().tolist())\n",
    "            target_lst.extend(label.cpu().tolist())\n",
    "            pred_lst.extend(pred.argmax(dim=1).cpu().tolist())\n",
    "        self.val_mean_loss = val_total_loss / batch_index\n",
    "        self.validation_score, f1 = self.metric_fn(y_pred=pred_lst, y_answer=target_lst)\n",
    "        msg = f'Fold{fold + 1} Epoch/{epoch_index}, Val loss: {self.val_mean_loss}, Acc: {self.validation_score}, F1-Macro: {f1}'\n",
    "        print(msg)"
   ]
  },
  {
   "cell_type": "code",
   "execution_count": 55,
   "id": "db399faf-49e5-4a74-b035-a46be1448153",
   "metadata": {},
   "outputs": [],
   "source": [
    "class Trainer():\n",
    "    \"\"\" epoch에 대한 학습 및 검증 절차 정의\"\"\"\n",
    "    \n",
    "    def __init__(self, loss_fn, model, device, metric_fn, optimizer=None, scheduler=None):\n",
    "        \"\"\" 초기화\n",
    "        \"\"\"\n",
    "        self.loss_fn = loss_fn\n",
    "        self.model = model\n",
    "        self.device = device\n",
    "        self.optimizer = optimizer\n",
    "        self.scheduler = scheduler\n",
    "        self.metric_fn = metric_fn\n",
    "\n",
    "    def train_epoch(self, dataloader, epoch_index):\n",
    "        \"\"\" 한 epoch에서 수행되는 학습 절차\"\"\"\n",
    "        \n",
    "        self.model.train()\n",
    "        train_total_loss = 0\n",
    "        target_lst = []\n",
    "        pred_lst = []\n",
    "        prob_lst = []\n",
    "\n",
    "        for batch_index, (img, label) in enumerate(dataloader):\n",
    "            img = img.to(self.device)\n",
    "            label = label.to(self.device).float()\n",
    "            \n",
    "            pred = self.model(img)\n",
    "            \n",
    "            loss = self.loss_fn(pred[:,1], label)\n",
    "            self.optimizer.zero_grad()\n",
    "            loss.backward()\n",
    "            self.optimizer.step()\n",
    "            self.scheduler.step()\n",
    "            \n",
    "            train_total_loss += loss.item()\n",
    "            prob_lst.extend(pred[:, 1].cpu().tolist())\n",
    "            target_lst.extend(label.cpu().tolist())\n",
    "            pred_lst.extend(pred.argmax(dim=1).cpu().tolist())\n",
    "        self.train_mean_loss = train_total_loss / batch_index\n",
    "        self.train_score, f1 = self.metric_fn(y_pred=pred_lst, y_answer=target_lst)\n",
    "        msg = f'Epoch {epoch_index}, Train loss: {self.train_mean_loss}, Acc: {self.train_score}, F1-Macro: {f1}'\n",
    "        print(msg)\n",
    "\n",
    "    def validate_epoch(self, dataloader, epoch_index):\n",
    "        \"\"\" 한 epoch에서 수행되는 검증 절차\n",
    "        \"\"\"\n",
    "        self.model.eval()\n",
    "        val_total_loss = 0\n",
    "        target_lst = []\n",
    "        pred_lst = []\n",
    "        prob_lst = []\n",
    "\n",
    "        for batch_index, (img, label) in enumerate(dataloader):\n",
    "            img = img.to(self.device)\n",
    "            label = label.to(self.device).float()\n",
    "            pred = self.model(img)\n",
    "            \n",
    "            loss = self.loss_fn(pred[:,1], label)\n",
    "            val_total_loss += loss.item()\n",
    "            prob_lst.extend(pred[:, 1].cpu().tolist())\n",
    "            target_lst.extend(label.cpu().tolist())\n",
    "            pred_lst.extend(pred.argmax(dim=1).cpu().tolist())\n",
    "        self.val_mean_loss = val_total_loss / batch_index\n",
    "        self.validation_score, f1 = self.metric_fn(y_pred=pred_lst, y_answer=target_lst)\n",
    "        msg = f'Epoch {epoch_index}, Val loss: {self.val_mean_loss}, Acc: {self.validation_score}, F1-Macro: {f1}'\n",
    "        print(msg)"
   ]
  },
  {
   "cell_type": "markdown",
   "id": "e2aca506-d168-4c9f-8eca-5cdecb122961",
   "metadata": {},
   "source": [
    "### Metrics"
   ]
  },
  {
   "cell_type": "code",
   "execution_count": 56,
   "id": "33678d90-a254-48d5-bf09-2a817eeafea3",
   "metadata": {},
   "outputs": [],
   "source": [
    "from sklearn.metrics import accuracy_score, f1_score\n",
    "\n",
    "def get_metric_fn(y_pred, y_answer):\n",
    "    \"\"\" 성능을 반환하는 함수\"\"\"\n",
    "    \n",
    "    assert len(y_pred) == len(y_answer), 'The size of prediction and answer are not same.'\n",
    "    accuracy = accuracy_score(y_answer, y_pred)\n",
    "    f1 = f1_score(y_answer, y_pred, average='macro')\n",
    "    return accuracy, f1"
   ]
  },
  {
   "cell_type": "markdown",
   "id": "d729c079-9d85-49ce-857f-320b0c56a3a8",
   "metadata": {
    "tags": []
   },
   "source": [
    "## Train\n",
    "### 학습을 위한 객체 선언"
   ]
  },
  {
   "cell_type": "markdown",
   "id": "b19610a4-ad7c-44a0-80cd-9734b5015100",
   "metadata": {
    "tags": []
   },
   "source": [
    "#### Load Dataset & Dataloader"
   ]
  },
  {
   "cell_type": "code",
   "execution_count": 57,
   "id": "7cea68f0-dfad-47ce-a8ca-00ea01988886",
   "metadata": {},
   "outputs": [
    {
     "name": "stdout",
     "output_type": "stream",
     "text": [
      "Loading train dataset..\n",
      "Loading val dataset..\n",
      "Train set samples: 516 Val set samples: 130\n"
     ]
    }
   ],
   "source": [
    "# Load dataset & dataloader\n",
    "train_dataset = CustomDataset(data_dir=DATA_DIR, mode='train', input_shape=INPUT_SHAPE)\n",
    "validation_dataset = CustomDataset(data_dir=DATA_DIR, mode='val', input_shape=INPUT_SHAPE)\n",
    "###\n",
    "dataset = ConcatDataset([train_dataset, validation_dataset])\n",
    "splits=KFold(n_splits=k,shuffle=True, random_state=42)\n",
    "####\n",
    "train_dataloader = DataLoader(train_dataset,num_workers=4, batch_size=BATCH_SIZE, shuffle=True)\n",
    "validation_dataloader = DataLoader(validation_dataset, num_workers=4,batch_size=BATCH_SIZE, shuffle=True)\n",
    "print('Train set samples:',len(train_dataset),  'Val set samples:', len(validation_dataset))"
   ]
  },
  {
   "cell_type": "code",
   "execution_count": null,
   "id": "6ae1f2dc-8579-4bef-b967-e283e193adca",
   "metadata": {},
   "outputs": [],
   "source": []
  },
  {
   "cell_type": "code",
   "execution_count": 58,
   "id": "40b74ea6-cbdf-4ade-8350-20c3dcbbce9e",
   "metadata": {
    "tags": []
   },
   "outputs": [
    {
     "name": "stdout",
     "output_type": "stream",
     "text": [
      "(array([  0,   1,   3,   4,   5,   7,   8,   9,  11,  12,  13,  14,  15,\n",
      "        16,  17,  18,  19,  20,  21,  22,  23,  25,  26,  27,  28,  29,\n",
      "        32,  33,  34,  35,  36,  37,  38,  40,  42,  43,  45,  46,  47,\n",
      "        48,  50,  51,  52,  53,  57,  58,  59,  61,  62,  64,  66,  67,\n",
      "        68,  71,  73,  74,  75,  79,  80,  83,  84,  85,  87,  88,  89,\n",
      "        91,  92,  93,  94,  95,  96,  97,  98,  99, 100, 102, 103, 104,\n",
      "       105, 106, 107, 111, 112, 113, 114, 115, 116, 117, 119, 120, 121,\n",
      "       122, 123, 124, 125, 126, 127, 128, 129, 130, 134, 136, 137, 138,\n",
      "       139, 140, 141, 142, 143, 144, 146, 147, 149, 150, 151, 152, 153,\n",
      "       154, 156, 157, 159, 160, 161, 162, 164, 166, 168, 169, 170, 171,\n",
      "       172, 173, 175, 178, 179, 180, 182, 183, 184, 185, 186, 187, 188,\n",
      "       189, 190, 191, 193, 194, 195, 196, 197, 198, 199, 200, 201, 202,\n",
      "       203, 205, 206, 207, 210, 212, 214, 216, 217, 219, 220, 222, 223,\n",
      "       224, 225, 226, 228, 229, 230, 232, 233, 234, 235, 237, 238, 239,\n",
      "       240, 241, 242, 243, 244, 245, 246, 247, 249, 251, 252, 253, 254,\n",
      "       255, 258, 259, 260, 261, 262, 263, 266, 267, 269, 270, 272, 273,\n",
      "       274, 275, 276, 277, 278, 279, 280, 282, 283, 285, 286, 287, 288,\n",
      "       289, 290, 293, 294, 295, 297, 298, 299, 300, 301, 303, 304, 306,\n",
      "       307, 308, 309, 311, 312, 313, 314, 315, 316, 317, 318, 319, 322,\n",
      "       323, 324, 325, 327, 328, 330, 333, 334, 335, 336, 337, 339, 342,\n",
      "       343, 345, 346, 347, 348, 350, 351, 352, 353, 354, 355, 356, 357,\n",
      "       358, 359, 360, 362, 365, 366, 368, 369, 371, 372, 373, 374, 375,\n",
      "       376, 377, 378, 379, 380, 381, 382, 383, 384, 385, 386, 387, 388,\n",
      "       389, 390, 391, 392, 393, 394, 395, 396, 397, 398, 399, 400, 401,\n",
      "       402, 403, 405, 406, 408, 410, 411, 412, 413, 414, 415, 416, 417,\n",
      "       418, 419, 420, 422, 423, 424, 425, 426, 427, 429, 430, 431, 432,\n",
      "       433, 434, 435, 437, 438, 439, 440, 441, 442, 445, 447, 448, 449,\n",
      "       450, 451, 452, 453, 454, 455, 456, 457, 458, 459, 460, 461, 462,\n",
      "       463, 464, 465, 466, 467, 468, 469, 470, 471, 472, 473, 474, 475,\n",
      "       476, 480, 481, 482, 483, 484, 485, 488, 489, 490, 491, 492, 493,\n",
      "       495, 496, 497, 498, 499, 500, 501, 502, 504, 505, 507, 508, 509,\n",
      "       510, 511, 513, 514, 516, 517, 519, 520, 521, 522, 523, 524, 525,\n",
      "       526, 527, 529, 532, 533, 534, 535, 536, 538, 539, 540, 541, 542,\n",
      "       543, 544, 545, 547, 548, 549, 550, 553, 555, 556, 557, 558, 559,\n",
      "       560, 561, 562, 563, 564, 565, 566, 567, 568, 569, 570, 571, 572,\n",
      "       573, 574, 575, 577, 578, 579, 581, 582, 583, 584, 585, 586, 587,\n",
      "       588, 589, 590, 591, 592, 594, 595, 596, 597, 600, 601, 602, 603,\n",
      "       604, 605, 606, 607, 608, 610, 612, 613, 614, 617, 618, 619, 620,\n",
      "       621, 622, 623, 624, 625, 626, 627, 628, 629, 630, 631, 632, 634,\n",
      "       635, 636, 637, 638, 639, 640, 643, 644, 645]), array([  2,   6,  10,  24,  30,  31,  39,  41,  44,  49,  54,  55,  56,\n",
      "        60,  63,  65,  69,  70,  72,  76,  77,  78,  81,  82,  86,  90,\n",
      "       101, 108, 109, 110, 118, 131, 132, 133, 135, 145, 148, 155, 158,\n",
      "       163, 165, 167, 174, 176, 177, 181, 192, 204, 208, 209, 211, 213,\n",
      "       215, 218, 221, 227, 231, 236, 248, 250, 256, 257, 264, 265, 268,\n",
      "       271, 281, 284, 291, 292, 296, 302, 305, 310, 320, 321, 326, 329,\n",
      "       331, 332, 338, 340, 341, 344, 349, 361, 363, 364, 367, 370, 404,\n",
      "       407, 409, 421, 428, 436, 443, 444, 446, 477, 478, 479, 486, 487,\n",
      "       494, 503, 506, 512, 515, 518, 528, 530, 531, 537, 546, 551, 552,\n",
      "       554, 576, 580, 593, 598, 599, 609, 611, 615, 616, 633, 641, 642]))\n",
      "(array([  1,   2,   3,   4,   5,   6,   8,  10,  12,  13,  14,  16,  17,\n",
      "        19,  20,  21,  24,  25,  26,  27,  30,  31,  32,  34,  35,  36,\n",
      "        37,  38,  39,  40,  41,  44,  45,  46,  47,  48,  49,  50,  51,\n",
      "        52,  53,  54,  55,  56,  57,  58,  59,  60,  62,  63,  64,  65,\n",
      "        67,  69,  70,  71,  72,  74,  76,  77,  78,  80,  81,  82,  85,\n",
      "        86,  87,  90,  91,  94,  95,  96,  97,  98,  99, 100, 101, 102,\n",
      "       103, 105, 106, 107, 108, 109, 110, 111, 112, 113, 115, 118, 119,\n",
      "       120, 121, 122, 123, 124, 125, 126, 127, 128, 129, 130, 131, 132,\n",
      "       133, 134, 135, 136, 138, 139, 141, 142, 143, 145, 146, 147, 148,\n",
      "       149, 150, 151, 152, 154, 155, 156, 157, 158, 159, 160, 161, 162,\n",
      "       163, 164, 165, 166, 167, 168, 169, 170, 171, 172, 173, 174, 175,\n",
      "       176, 177, 179, 180, 181, 183, 185, 186, 187, 189, 190, 191, 192,\n",
      "       193, 194, 195, 197, 198, 200, 201, 202, 204, 205, 206, 207, 208,\n",
      "       209, 211, 213, 214, 215, 216, 217, 218, 219, 221, 222, 223, 224,\n",
      "       225, 226, 227, 229, 230, 231, 232, 233, 236, 237, 239, 240, 241,\n",
      "       242, 243, 245, 246, 248, 250, 251, 252, 253, 254, 255, 256, 257,\n",
      "       258, 261, 262, 263, 264, 265, 266, 267, 268, 269, 270, 271, 272,\n",
      "       273, 276, 279, 280, 281, 282, 283, 284, 285, 286, 287, 288, 291,\n",
      "       292, 293, 294, 295, 296, 297, 301, 302, 303, 305, 306, 307, 308,\n",
      "       309, 310, 313, 314, 315, 316, 317, 320, 321, 322, 323, 324, 325,\n",
      "       326, 329, 330, 331, 332, 337, 338, 339, 340, 341, 342, 343, 344,\n",
      "       345, 346, 347, 348, 349, 350, 351, 353, 355, 358, 359, 361, 362,\n",
      "       363, 364, 365, 366, 367, 368, 370, 371, 372, 373, 376, 377, 378,\n",
      "       379, 380, 381, 383, 384, 385, 386, 387, 388, 389, 390, 391, 392,\n",
      "       393, 394, 395, 396, 397, 400, 401, 402, 403, 404, 406, 407, 408,\n",
      "       409, 410, 411, 412, 413, 414, 415, 418, 419, 420, 421, 422, 423,\n",
      "       424, 426, 427, 428, 431, 432, 435, 436, 437, 438, 439, 440, 441,\n",
      "       442, 443, 444, 445, 446, 448, 449, 450, 451, 453, 454, 455, 457,\n",
      "       458, 459, 460, 461, 462, 463, 464, 465, 466, 467, 469, 470, 471,\n",
      "       472, 473, 474, 475, 476, 477, 478, 479, 480, 481, 482, 483, 484,\n",
      "       485, 486, 487, 488, 489, 490, 491, 492, 493, 494, 495, 498, 499,\n",
      "       500, 501, 502, 503, 504, 505, 506, 507, 508, 509, 510, 511, 512,\n",
      "       513, 514, 515, 517, 518, 520, 521, 522, 524, 525, 527, 528, 529,\n",
      "       530, 531, 534, 535, 536, 537, 538, 539, 540, 542, 543, 544, 545,\n",
      "       546, 547, 548, 550, 551, 552, 554, 555, 556, 557, 560, 561, 562,\n",
      "       563, 564, 565, 566, 568, 569, 571, 572, 573, 574, 576, 578, 579,\n",
      "       580, 583, 584, 585, 586, 587, 589, 591, 592, 593, 594, 595, 596,\n",
      "       597, 598, 599, 600, 602, 606, 607, 608, 609, 610, 611, 612, 614,\n",
      "       615, 616, 618, 619, 622, 623, 624, 625, 626, 628, 630, 632, 633,\n",
      "       634, 635, 636, 637, 639, 640, 641, 642, 643, 645]), array([  0,   7,   9,  11,  15,  18,  22,  23,  28,  29,  33,  42,  43,\n",
      "        61,  66,  68,  73,  75,  79,  83,  84,  88,  89,  92,  93, 104,\n",
      "       114, 116, 117, 137, 140, 144, 153, 178, 182, 184, 188, 196, 199,\n",
      "       203, 210, 212, 220, 228, 234, 235, 238, 244, 247, 249, 259, 260,\n",
      "       274, 275, 277, 278, 289, 290, 298, 299, 300, 304, 311, 312, 318,\n",
      "       319, 327, 328, 333, 334, 335, 336, 352, 354, 356, 357, 360, 369,\n",
      "       374, 375, 382, 398, 399, 405, 416, 417, 425, 429, 430, 433, 434,\n",
      "       447, 452, 456, 468, 496, 497, 516, 519, 523, 526, 532, 533, 541,\n",
      "       549, 553, 558, 559, 567, 570, 575, 577, 581, 582, 588, 590, 601,\n",
      "       603, 604, 605, 613, 617, 620, 621, 627, 629, 631, 638, 644]))\n",
      "(array([  0,   1,   2,   4,   6,   7,   8,   9,  10,  11,  13,  14,  15,\n",
      "        18,  20,  21,  22,  23,  24,  27,  28,  29,  30,  31,  32,  33,\n",
      "        34,  35,  36,  38,  39,  40,  41,  42,  43,  44,  47,  49,  51,\n",
      "        52,  53,  54,  55,  56,  58,  59,  60,  61,  62,  63,  64,  65,\n",
      "        66,  68,  69,  70,  71,  72,  73,  75,  76,  77,  78,  79,  80,\n",
      "        81,  82,  83,  84,  85,  86,  87,  88,  89,  90,  91,  92,  93,\n",
      "        95,  96,  97,  98,  99, 100, 101, 102, 104, 105, 106, 108, 109,\n",
      "       110, 111, 112, 114, 115, 116, 117, 118, 120, 121, 122, 123, 125,\n",
      "       127, 128, 129, 130, 131, 132, 133, 134, 135, 136, 137, 138, 139,\n",
      "       140, 143, 144, 145, 146, 147, 148, 150, 151, 153, 155, 156, 158,\n",
      "       159, 160, 161, 163, 164, 165, 166, 167, 170, 171, 174, 176, 177,\n",
      "       178, 179, 181, 182, 183, 184, 186, 187, 188, 189, 191, 192, 196,\n",
      "       197, 198, 199, 200, 201, 202, 203, 204, 205, 206, 208, 209, 210,\n",
      "       211, 212, 213, 214, 215, 216, 217, 218, 219, 220, 221, 223, 224,\n",
      "       227, 228, 230, 231, 232, 233, 234, 235, 236, 238, 239, 240, 241,\n",
      "       242, 243, 244, 246, 247, 248, 249, 250, 251, 252, 253, 254, 256,\n",
      "       257, 258, 259, 260, 262, 264, 265, 266, 267, 268, 269, 270, 271,\n",
      "       273, 274, 275, 276, 277, 278, 279, 281, 282, 284, 288, 289, 290,\n",
      "       291, 292, 293, 294, 295, 296, 297, 298, 299, 300, 302, 303, 304,\n",
      "       305, 306, 307, 308, 310, 311, 312, 313, 314, 315, 317, 318, 319,\n",
      "       320, 321, 323, 324, 325, 326, 327, 328, 329, 330, 331, 332, 333,\n",
      "       334, 335, 336, 337, 338, 339, 340, 341, 342, 343, 344, 345, 347,\n",
      "       348, 349, 351, 352, 354, 356, 357, 358, 359, 360, 361, 363, 364,\n",
      "       366, 367, 368, 369, 370, 371, 372, 373, 374, 375, 376, 378, 379,\n",
      "       382, 384, 385, 386, 387, 389, 391, 392, 394, 397, 398, 399, 400,\n",
      "       401, 402, 404, 405, 406, 407, 409, 410, 413, 415, 416, 417, 418,\n",
      "       419, 420, 421, 422, 423, 424, 425, 427, 428, 429, 430, 432, 433,\n",
      "       434, 435, 436, 438, 439, 441, 443, 444, 445, 446, 447, 450, 451,\n",
      "       452, 454, 455, 456, 457, 458, 459, 460, 461, 462, 464, 465, 466,\n",
      "       467, 468, 470, 471, 472, 474, 475, 476, 477, 478, 479, 480, 482,\n",
      "       484, 485, 486, 487, 489, 490, 491, 492, 493, 494, 495, 496, 497,\n",
      "       498, 499, 501, 502, 503, 504, 505, 506, 508, 509, 510, 512, 513,\n",
      "       515, 516, 518, 519, 520, 521, 523, 524, 525, 526, 527, 528, 529,\n",
      "       530, 531, 532, 533, 534, 535, 537, 538, 539, 540, 541, 543, 545,\n",
      "       546, 547, 549, 551, 552, 553, 554, 555, 556, 557, 558, 559, 560,\n",
      "       561, 562, 563, 564, 565, 566, 567, 568, 569, 570, 571, 572, 573,\n",
      "       575, 576, 577, 580, 581, 582, 584, 586, 587, 588, 590, 593, 595,\n",
      "       597, 598, 599, 600, 601, 602, 603, 604, 605, 606, 609, 611, 612,\n",
      "       613, 614, 615, 616, 617, 620, 621, 625, 627, 628, 629, 630, 631,\n",
      "       633, 634, 635, 638, 639, 640, 641, 642, 643, 644]), array([  3,   5,  12,  16,  17,  19,  25,  26,  37,  45,  46,  48,  50,\n",
      "        57,  67,  74,  94, 103, 107, 113, 119, 124, 126, 141, 142, 149,\n",
      "       152, 154, 157, 162, 168, 169, 172, 173, 175, 180, 185, 190, 193,\n",
      "       194, 195, 207, 222, 225, 226, 229, 237, 245, 255, 261, 263, 272,\n",
      "       280, 283, 285, 286, 287, 301, 309, 316, 322, 346, 350, 353, 355,\n",
      "       362, 365, 377, 380, 381, 383, 388, 390, 393, 395, 396, 403, 408,\n",
      "       411, 412, 414, 426, 431, 437, 440, 442, 448, 449, 453, 463, 469,\n",
      "       473, 481, 483, 488, 500, 507, 511, 514, 517, 522, 536, 542, 544,\n",
      "       548, 550, 574, 578, 579, 583, 585, 589, 591, 592, 594, 596, 607,\n",
      "       608, 610, 618, 619, 622, 623, 624, 626, 632, 636, 637, 645]))\n",
      "(array([  0,   1,   2,   3,   4,   5,   6,   7,   9,  10,  11,  12,  13,\n",
      "        14,  15,  16,  17,  18,  19,  20,  21,  22,  23,  24,  25,  26,\n",
      "        27,  28,  29,  30,  31,  32,  33,  34,  35,  37,  39,  40,  41,\n",
      "        42,  43,  44,  45,  46,  47,  48,  49,  50,  52,  54,  55,  56,\n",
      "        57,  58,  60,  61,  62,  63,  64,  65,  66,  67,  68,  69,  70,\n",
      "        71,  72,  73,  74,  75,  76,  77,  78,  79,  80,  81,  82,  83,\n",
      "        84,  85,  86,  87,  88,  89,  90,  91,  92,  93,  94,  95,  98,\n",
      "        99, 101, 102, 103, 104, 105, 106, 107, 108, 109, 110, 113, 114,\n",
      "       116, 117, 118, 119, 121, 124, 126, 128, 130, 131, 132, 133, 134,\n",
      "       135, 137, 138, 140, 141, 142, 144, 145, 148, 149, 152, 153, 154,\n",
      "       155, 156, 157, 158, 159, 160, 161, 162, 163, 165, 166, 167, 168,\n",
      "       169, 170, 172, 173, 174, 175, 176, 177, 178, 180, 181, 182, 184,\n",
      "       185, 187, 188, 189, 190, 191, 192, 193, 194, 195, 196, 199, 200,\n",
      "       201, 203, 204, 205, 206, 207, 208, 209, 210, 211, 212, 213, 214,\n",
      "       215, 216, 217, 218, 220, 221, 222, 225, 226, 227, 228, 229, 230,\n",
      "       231, 234, 235, 236, 237, 238, 240, 241, 242, 243, 244, 245, 247,\n",
      "       248, 249, 250, 251, 252, 255, 256, 257, 259, 260, 261, 263, 264,\n",
      "       265, 268, 269, 270, 271, 272, 273, 274, 275, 276, 277, 278, 280,\n",
      "       281, 283, 284, 285, 286, 287, 288, 289, 290, 291, 292, 295, 296,\n",
      "       298, 299, 300, 301, 302, 304, 305, 308, 309, 310, 311, 312, 313,\n",
      "       315, 316, 318, 319, 320, 321, 322, 326, 327, 328, 329, 330, 331,\n",
      "       332, 333, 334, 335, 336, 337, 338, 339, 340, 341, 343, 344, 345,\n",
      "       346, 349, 350, 352, 353, 354, 355, 356, 357, 360, 361, 362, 363,\n",
      "       364, 365, 366, 367, 369, 370, 372, 374, 375, 377, 378, 379, 380,\n",
      "       381, 382, 383, 385, 387, 388, 389, 390, 391, 392, 393, 395, 396,\n",
      "       397, 398, 399, 401, 403, 404, 405, 406, 407, 408, 409, 411, 412,\n",
      "       413, 414, 416, 417, 418, 421, 425, 426, 427, 428, 429, 430, 431,\n",
      "       433, 434, 435, 436, 437, 440, 442, 443, 444, 446, 447, 448, 449,\n",
      "       452, 453, 454, 455, 456, 458, 459, 460, 461, 463, 466, 468, 469,\n",
      "       471, 473, 474, 475, 476, 477, 478, 479, 481, 483, 484, 486, 487,\n",
      "       488, 489, 491, 492, 494, 496, 497, 498, 500, 502, 503, 504, 506,\n",
      "       507, 508, 510, 511, 512, 514, 515, 516, 517, 518, 519, 520, 522,\n",
      "       523, 526, 528, 530, 531, 532, 533, 536, 537, 539, 540, 541, 542,\n",
      "       544, 545, 546, 547, 548, 549, 550, 551, 552, 553, 554, 555, 558,\n",
      "       559, 560, 561, 562, 563, 564, 565, 566, 567, 570, 572, 574, 575,\n",
      "       576, 577, 578, 579, 580, 581, 582, 583, 585, 586, 588, 589, 590,\n",
      "       591, 592, 593, 594, 595, 596, 598, 599, 600, 601, 602, 603, 604,\n",
      "       605, 606, 607, 608, 609, 610, 611, 613, 614, 615, 616, 617, 618,\n",
      "       619, 620, 621, 622, 623, 624, 626, 627, 628, 629, 630, 631, 632,\n",
      "       633, 636, 637, 638, 640, 641, 642, 643, 644, 645]), array([  8,  36,  38,  51,  53,  59,  96,  97, 100, 111, 112, 115, 120,\n",
      "       122, 123, 125, 127, 129, 136, 139, 143, 146, 147, 150, 151, 164,\n",
      "       171, 179, 183, 186, 197, 198, 202, 219, 223, 224, 232, 233, 239,\n",
      "       246, 253, 254, 258, 262, 266, 267, 279, 282, 293, 294, 297, 303,\n",
      "       306, 307, 314, 317, 323, 324, 325, 342, 347, 348, 351, 358, 359,\n",
      "       368, 371, 373, 376, 384, 386, 394, 400, 402, 410, 415, 419, 420,\n",
      "       422, 423, 424, 432, 438, 439, 441, 445, 450, 451, 457, 462, 464,\n",
      "       465, 467, 470, 472, 480, 482, 485, 490, 493, 495, 499, 501, 505,\n",
      "       509, 513, 521, 524, 525, 527, 529, 534, 535, 538, 543, 556, 557,\n",
      "       568, 569, 571, 573, 584, 587, 597, 612, 625, 634, 635, 639]))\n",
      "(array([  0,   2,   3,   5,   6,   7,   8,   9,  10,  11,  12,  15,  16,\n",
      "        17,  18,  19,  22,  23,  24,  25,  26,  28,  29,  30,  31,  33,\n",
      "        36,  37,  38,  39,  41,  42,  43,  44,  45,  46,  48,  49,  50,\n",
      "        51,  53,  54,  55,  56,  57,  59,  60,  61,  63,  65,  66,  67,\n",
      "        68,  69,  70,  72,  73,  74,  75,  76,  77,  78,  79,  81,  82,\n",
      "        83,  84,  86,  88,  89,  90,  92,  93,  94,  96,  97, 100, 101,\n",
      "       103, 104, 107, 108, 109, 110, 111, 112, 113, 114, 115, 116, 117,\n",
      "       118, 119, 120, 122, 123, 124, 125, 126, 127, 129, 131, 132, 133,\n",
      "       135, 136, 137, 139, 140, 141, 142, 143, 144, 145, 146, 147, 148,\n",
      "       149, 150, 151, 152, 153, 154, 155, 157, 158, 162, 163, 164, 165,\n",
      "       167, 168, 169, 171, 172, 173, 174, 175, 176, 177, 178, 179, 180,\n",
      "       181, 182, 183, 184, 185, 186, 188, 190, 192, 193, 194, 195, 196,\n",
      "       197, 198, 199, 202, 203, 204, 207, 208, 209, 210, 211, 212, 213,\n",
      "       215, 218, 219, 220, 221, 222, 223, 224, 225, 226, 227, 228, 229,\n",
      "       231, 232, 233, 234, 235, 236, 237, 238, 239, 244, 245, 246, 247,\n",
      "       248, 249, 250, 253, 254, 255, 256, 257, 258, 259, 260, 261, 262,\n",
      "       263, 264, 265, 266, 267, 268, 271, 272, 274, 275, 277, 278, 279,\n",
      "       280, 281, 282, 283, 284, 285, 286, 287, 289, 290, 291, 292, 293,\n",
      "       294, 296, 297, 298, 299, 300, 301, 302, 303, 304, 305, 306, 307,\n",
      "       309, 310, 311, 312, 314, 316, 317, 318, 319, 320, 321, 322, 323,\n",
      "       324, 325, 326, 327, 328, 329, 331, 332, 333, 334, 335, 336, 338,\n",
      "       340, 341, 342, 344, 346, 347, 348, 349, 350, 351, 352, 353, 354,\n",
      "       355, 356, 357, 358, 359, 360, 361, 362, 363, 364, 365, 367, 368,\n",
      "       369, 370, 371, 373, 374, 375, 376, 377, 380, 381, 382, 383, 384,\n",
      "       386, 388, 390, 393, 394, 395, 396, 398, 399, 400, 402, 403, 404,\n",
      "       405, 407, 408, 409, 410, 411, 412, 414, 415, 416, 417, 419, 420,\n",
      "       421, 422, 423, 424, 425, 426, 428, 429, 430, 431, 432, 433, 434,\n",
      "       436, 437, 438, 439, 440, 441, 442, 443, 444, 445, 446, 447, 448,\n",
      "       449, 450, 451, 452, 453, 456, 457, 462, 463, 464, 465, 467, 468,\n",
      "       469, 470, 472, 473, 477, 478, 479, 480, 481, 482, 483, 485, 486,\n",
      "       487, 488, 490, 493, 494, 495, 496, 497, 499, 500, 501, 503, 505,\n",
      "       506, 507, 509, 511, 512, 513, 514, 515, 516, 517, 518, 519, 521,\n",
      "       522, 523, 524, 525, 526, 527, 528, 529, 530, 531, 532, 533, 534,\n",
      "       535, 536, 537, 538, 541, 542, 543, 544, 546, 548, 549, 550, 551,\n",
      "       552, 553, 554, 556, 557, 558, 559, 567, 568, 569, 570, 571, 573,\n",
      "       574, 575, 576, 577, 578, 579, 580, 581, 582, 583, 584, 585, 587,\n",
      "       588, 589, 590, 591, 592, 593, 594, 596, 597, 598, 599, 601, 603,\n",
      "       604, 605, 607, 608, 609, 610, 611, 612, 613, 615, 616, 617, 618,\n",
      "       619, 620, 621, 622, 623, 624, 625, 626, 627, 629, 631, 632, 633,\n",
      "       634, 635, 636, 637, 638, 639, 641, 642, 644, 645]), array([  1,   4,  13,  14,  20,  21,  27,  32,  34,  35,  40,  47,  52,\n",
      "        58,  62,  64,  71,  80,  85,  87,  91,  95,  98,  99, 102, 105,\n",
      "       106, 121, 128, 130, 134, 138, 156, 159, 160, 161, 166, 170, 187,\n",
      "       189, 191, 200, 201, 205, 206, 214, 216, 217, 230, 240, 241, 242,\n",
      "       243, 251, 252, 269, 270, 273, 276, 288, 295, 308, 313, 315, 330,\n",
      "       337, 339, 343, 345, 366, 372, 378, 379, 385, 387, 389, 391, 392,\n",
      "       397, 401, 406, 413, 418, 427, 435, 454, 455, 458, 459, 460, 461,\n",
      "       466, 471, 474, 475, 476, 484, 489, 491, 492, 498, 502, 504, 508,\n",
      "       510, 520, 539, 540, 545, 547, 555, 560, 561, 562, 563, 564, 565,\n",
      "       566, 572, 586, 595, 600, 602, 606, 614, 628, 630, 640, 643]))\n"
     ]
    }
   ],
   "source": [
    "for i in splits.split(np.arange(len(dataset))):\n",
    "    print(i)"
   ]
  },
  {
   "cell_type": "code",
   "execution_count": 59,
   "id": "467c9de8-6df3-403a-9ff2-6ade46bc6072",
   "metadata": {},
   "outputs": [
    {
     "name": "stdout",
     "output_type": "stream",
     "text": [
      "Feature batch shape: torch.Size([3, 500, 500])\n"
     ]
    }
   ],
   "source": [
    "train_features, train_labels = next(iter(train_dataset))\n",
    "print(f\"Feature batch shape: {train_features.size()}\")\n",
    "\n"
   ]
  },
  {
   "cell_type": "markdown",
   "id": "3bb8dae0-8e32-4ac0-a585-858a7095d2a4",
   "metadata": {},
   "source": [
    "#### Load model and other utils"
   ]
  },
  {
   "cell_type": "code",
   "execution_count": 60,
   "id": "cb4d52e1-752a-40d5-9b34-c06d3dbdd45a",
   "metadata": {},
   "outputs": [],
   "source": [
    "# Load Model\n",
    "model = resnet(NUM_CLS).to(DEVICE)\n",
    "\n",
    "# # Save Initial Model\n",
    "# torch.save(model.state_dict(), 'initial.pt')\n",
    "\n",
    "# Set optimizer, scheduler, loss function, metric function\n",
    "optimizer = optim.Adam(model.parameters(), lr=LEARNING_RATE)\n",
    "scheduler =  optim.lr_scheduler.OneCycleLR(optimizer=optimizer, pct_start=0.1, div_factor=1e5, max_lr=0.0001, epochs=EPOCHS, steps_per_epoch=len(dataset))\n",
    "loss_fn = nn.BCELoss()\n",
    "metric_fn = get_metric_fn\n",
    "\n",
    "\n",
    "# Set trainer\n",
    "trainer = Trainer(loss_fn, model, DEVICE, metric_fn, optimizer, scheduler)\n",
    "trainer_f = Trainer_f(loss_fn, model, DEVICE, metric_fn, optimizer, scheduler)\n",
    "\n",
    "# Set earlystopper\n",
    "early_stopper = LossEarlyStopper(patience=EARLY_STOPPING_PATIENCE)"
   ]
  },
  {
   "cell_type": "code",
   "execution_count": 61,
   "id": "9b881024-3921-4c2c-b9ec-e6b23c4f5ad2",
   "metadata": {
    "tags": []
   },
   "outputs": [
    {
     "data": {
      "text/plain": [
       "resnet(\n",
       "  (model): ResNet(\n",
       "    (conv1): Conv2d(3, 64, kernel_size=(7, 7), stride=(2, 2), padding=(3, 3), bias=False)\n",
       "    (bn1): BatchNorm2d(64, eps=1e-05, momentum=0.1, affine=True, track_running_stats=True)\n",
       "    (relu): ReLU(inplace=True)\n",
       "    (maxpool): MaxPool2d(kernel_size=3, stride=2, padding=1, dilation=1, ceil_mode=False)\n",
       "    (layer1): Sequential(\n",
       "      (0): BasicBlock(\n",
       "        (conv1): Conv2d(64, 64, kernel_size=(3, 3), stride=(1, 1), padding=(1, 1), bias=False)\n",
       "        (bn1): BatchNorm2d(64, eps=1e-05, momentum=0.1, affine=True, track_running_stats=True)\n",
       "        (relu): ReLU(inplace=True)\n",
       "        (conv2): Conv2d(64, 64, kernel_size=(3, 3), stride=(1, 1), padding=(1, 1), bias=False)\n",
       "        (bn2): BatchNorm2d(64, eps=1e-05, momentum=0.1, affine=True, track_running_stats=True)\n",
       "      )\n",
       "      (1): BasicBlock(\n",
       "        (conv1): Conv2d(64, 64, kernel_size=(3, 3), stride=(1, 1), padding=(1, 1), bias=False)\n",
       "        (bn1): BatchNorm2d(64, eps=1e-05, momentum=0.1, affine=True, track_running_stats=True)\n",
       "        (relu): ReLU(inplace=True)\n",
       "        (conv2): Conv2d(64, 64, kernel_size=(3, 3), stride=(1, 1), padding=(1, 1), bias=False)\n",
       "        (bn2): BatchNorm2d(64, eps=1e-05, momentum=0.1, affine=True, track_running_stats=True)\n",
       "      )\n",
       "      (2): BasicBlock(\n",
       "        (conv1): Conv2d(64, 64, kernel_size=(3, 3), stride=(1, 1), padding=(1, 1), bias=False)\n",
       "        (bn1): BatchNorm2d(64, eps=1e-05, momentum=0.1, affine=True, track_running_stats=True)\n",
       "        (relu): ReLU(inplace=True)\n",
       "        (conv2): Conv2d(64, 64, kernel_size=(3, 3), stride=(1, 1), padding=(1, 1), bias=False)\n",
       "        (bn2): BatchNorm2d(64, eps=1e-05, momentum=0.1, affine=True, track_running_stats=True)\n",
       "      )\n",
       "    )\n",
       "    (layer2): Sequential(\n",
       "      (0): BasicBlock(\n",
       "        (conv1): Conv2d(64, 128, kernel_size=(3, 3), stride=(2, 2), padding=(1, 1), bias=False)\n",
       "        (bn1): BatchNorm2d(128, eps=1e-05, momentum=0.1, affine=True, track_running_stats=True)\n",
       "        (relu): ReLU(inplace=True)\n",
       "        (conv2): Conv2d(128, 128, kernel_size=(3, 3), stride=(1, 1), padding=(1, 1), bias=False)\n",
       "        (bn2): BatchNorm2d(128, eps=1e-05, momentum=0.1, affine=True, track_running_stats=True)\n",
       "        (downsample): Sequential(\n",
       "          (0): Conv2d(64, 128, kernel_size=(1, 1), stride=(2, 2), bias=False)\n",
       "          (1): BatchNorm2d(128, eps=1e-05, momentum=0.1, affine=True, track_running_stats=True)\n",
       "        )\n",
       "      )\n",
       "      (1): BasicBlock(\n",
       "        (conv1): Conv2d(128, 128, kernel_size=(3, 3), stride=(1, 1), padding=(1, 1), bias=False)\n",
       "        (bn1): BatchNorm2d(128, eps=1e-05, momentum=0.1, affine=True, track_running_stats=True)\n",
       "        (relu): ReLU(inplace=True)\n",
       "        (conv2): Conv2d(128, 128, kernel_size=(3, 3), stride=(1, 1), padding=(1, 1), bias=False)\n",
       "        (bn2): BatchNorm2d(128, eps=1e-05, momentum=0.1, affine=True, track_running_stats=True)\n",
       "      )\n",
       "      (2): BasicBlock(\n",
       "        (conv1): Conv2d(128, 128, kernel_size=(3, 3), stride=(1, 1), padding=(1, 1), bias=False)\n",
       "        (bn1): BatchNorm2d(128, eps=1e-05, momentum=0.1, affine=True, track_running_stats=True)\n",
       "        (relu): ReLU(inplace=True)\n",
       "        (conv2): Conv2d(128, 128, kernel_size=(3, 3), stride=(1, 1), padding=(1, 1), bias=False)\n",
       "        (bn2): BatchNorm2d(128, eps=1e-05, momentum=0.1, affine=True, track_running_stats=True)\n",
       "      )\n",
       "      (3): BasicBlock(\n",
       "        (conv1): Conv2d(128, 128, kernel_size=(3, 3), stride=(1, 1), padding=(1, 1), bias=False)\n",
       "        (bn1): BatchNorm2d(128, eps=1e-05, momentum=0.1, affine=True, track_running_stats=True)\n",
       "        (relu): ReLU(inplace=True)\n",
       "        (conv2): Conv2d(128, 128, kernel_size=(3, 3), stride=(1, 1), padding=(1, 1), bias=False)\n",
       "        (bn2): BatchNorm2d(128, eps=1e-05, momentum=0.1, affine=True, track_running_stats=True)\n",
       "      )\n",
       "    )\n",
       "    (layer3): Sequential(\n",
       "      (0): BasicBlock(\n",
       "        (conv1): Conv2d(128, 256, kernel_size=(3, 3), stride=(2, 2), padding=(1, 1), bias=False)\n",
       "        (bn1): BatchNorm2d(256, eps=1e-05, momentum=0.1, affine=True, track_running_stats=True)\n",
       "        (relu): ReLU(inplace=True)\n",
       "        (conv2): Conv2d(256, 256, kernel_size=(3, 3), stride=(1, 1), padding=(1, 1), bias=False)\n",
       "        (bn2): BatchNorm2d(256, eps=1e-05, momentum=0.1, affine=True, track_running_stats=True)\n",
       "        (downsample): Sequential(\n",
       "          (0): Conv2d(128, 256, kernel_size=(1, 1), stride=(2, 2), bias=False)\n",
       "          (1): BatchNorm2d(256, eps=1e-05, momentum=0.1, affine=True, track_running_stats=True)\n",
       "        )\n",
       "      )\n",
       "      (1): BasicBlock(\n",
       "        (conv1): Conv2d(256, 256, kernel_size=(3, 3), stride=(1, 1), padding=(1, 1), bias=False)\n",
       "        (bn1): BatchNorm2d(256, eps=1e-05, momentum=0.1, affine=True, track_running_stats=True)\n",
       "        (relu): ReLU(inplace=True)\n",
       "        (conv2): Conv2d(256, 256, kernel_size=(3, 3), stride=(1, 1), padding=(1, 1), bias=False)\n",
       "        (bn2): BatchNorm2d(256, eps=1e-05, momentum=0.1, affine=True, track_running_stats=True)\n",
       "      )\n",
       "      (2): BasicBlock(\n",
       "        (conv1): Conv2d(256, 256, kernel_size=(3, 3), stride=(1, 1), padding=(1, 1), bias=False)\n",
       "        (bn1): BatchNorm2d(256, eps=1e-05, momentum=0.1, affine=True, track_running_stats=True)\n",
       "        (relu): ReLU(inplace=True)\n",
       "        (conv2): Conv2d(256, 256, kernel_size=(3, 3), stride=(1, 1), padding=(1, 1), bias=False)\n",
       "        (bn2): BatchNorm2d(256, eps=1e-05, momentum=0.1, affine=True, track_running_stats=True)\n",
       "      )\n",
       "      (3): BasicBlock(\n",
       "        (conv1): Conv2d(256, 256, kernel_size=(3, 3), stride=(1, 1), padding=(1, 1), bias=False)\n",
       "        (bn1): BatchNorm2d(256, eps=1e-05, momentum=0.1, affine=True, track_running_stats=True)\n",
       "        (relu): ReLU(inplace=True)\n",
       "        (conv2): Conv2d(256, 256, kernel_size=(3, 3), stride=(1, 1), padding=(1, 1), bias=False)\n",
       "        (bn2): BatchNorm2d(256, eps=1e-05, momentum=0.1, affine=True, track_running_stats=True)\n",
       "      )\n",
       "      (4): BasicBlock(\n",
       "        (conv1): Conv2d(256, 256, kernel_size=(3, 3), stride=(1, 1), padding=(1, 1), bias=False)\n",
       "        (bn1): BatchNorm2d(256, eps=1e-05, momentum=0.1, affine=True, track_running_stats=True)\n",
       "        (relu): ReLU(inplace=True)\n",
       "        (conv2): Conv2d(256, 256, kernel_size=(3, 3), stride=(1, 1), padding=(1, 1), bias=False)\n",
       "        (bn2): BatchNorm2d(256, eps=1e-05, momentum=0.1, affine=True, track_running_stats=True)\n",
       "      )\n",
       "      (5): BasicBlock(\n",
       "        (conv1): Conv2d(256, 256, kernel_size=(3, 3), stride=(1, 1), padding=(1, 1), bias=False)\n",
       "        (bn1): BatchNorm2d(256, eps=1e-05, momentum=0.1, affine=True, track_running_stats=True)\n",
       "        (relu): ReLU(inplace=True)\n",
       "        (conv2): Conv2d(256, 256, kernel_size=(3, 3), stride=(1, 1), padding=(1, 1), bias=False)\n",
       "        (bn2): BatchNorm2d(256, eps=1e-05, momentum=0.1, affine=True, track_running_stats=True)\n",
       "      )\n",
       "    )\n",
       "    (layer4): Sequential(\n",
       "      (0): BasicBlock(\n",
       "        (conv1): Conv2d(256, 512, kernel_size=(3, 3), stride=(2, 2), padding=(1, 1), bias=False)\n",
       "        (bn1): BatchNorm2d(512, eps=1e-05, momentum=0.1, affine=True, track_running_stats=True)\n",
       "        (relu): ReLU(inplace=True)\n",
       "        (conv2): Conv2d(512, 512, kernel_size=(3, 3), stride=(1, 1), padding=(1, 1), bias=False)\n",
       "        (bn2): BatchNorm2d(512, eps=1e-05, momentum=0.1, affine=True, track_running_stats=True)\n",
       "        (downsample): Sequential(\n",
       "          (0): Conv2d(256, 512, kernel_size=(1, 1), stride=(2, 2), bias=False)\n",
       "          (1): BatchNorm2d(512, eps=1e-05, momentum=0.1, affine=True, track_running_stats=True)\n",
       "        )\n",
       "      )\n",
       "      (1): BasicBlock(\n",
       "        (conv1): Conv2d(512, 512, kernel_size=(3, 3), stride=(1, 1), padding=(1, 1), bias=False)\n",
       "        (bn1): BatchNorm2d(512, eps=1e-05, momentum=0.1, affine=True, track_running_stats=True)\n",
       "        (relu): ReLU(inplace=True)\n",
       "        (conv2): Conv2d(512, 512, kernel_size=(3, 3), stride=(1, 1), padding=(1, 1), bias=False)\n",
       "        (bn2): BatchNorm2d(512, eps=1e-05, momentum=0.1, affine=True, track_running_stats=True)\n",
       "      )\n",
       "      (2): BasicBlock(\n",
       "        (conv1): Conv2d(512, 512, kernel_size=(3, 3), stride=(1, 1), padding=(1, 1), bias=False)\n",
       "        (bn1): BatchNorm2d(512, eps=1e-05, momentum=0.1, affine=True, track_running_stats=True)\n",
       "        (relu): ReLU(inplace=True)\n",
       "        (conv2): Conv2d(512, 512, kernel_size=(3, 3), stride=(1, 1), padding=(1, 1), bias=False)\n",
       "        (bn2): BatchNorm2d(512, eps=1e-05, momentum=0.1, affine=True, track_running_stats=True)\n",
       "      )\n",
       "    )\n",
       "    (avgpool): AdaptiveAvgPool2d(output_size=(1, 1))\n",
       "    (fc): Linear(in_features=512, out_features=2, bias=True)\n",
       "  )\n",
       "  (softmax): Softmax(dim=1)\n",
       ")"
      ]
     },
     "execution_count": 61,
     "metadata": {},
     "output_type": "execute_result"
    }
   ],
   "source": [
    "model"
   ]
  },
  {
   "cell_type": "markdown",
   "id": "cc632533-0e5e-4d29-94ae-ad581b38fa90",
   "metadata": {},
   "source": [
    "# K Fold"
   ]
  },
  {
   "cell_type": "code",
   "execution_count": 62,
   "id": "7da0ffd6-dcb6-46f0-9fbb-896f2c9cac32",
   "metadata": {},
   "outputs": [
    {
     "name": "stderr",
     "output_type": "stream",
     "text": [
      "  0% 0/20 [00:00<?, ?it/s]"
     ]
    },
    {
     "name": "stdout",
     "output_type": "stream",
     "text": [
      "Fold 1\n",
      "Fold1 /Epoch0, Train loss: 0.8207966722548008, Acc: 0.4748062015503876, F1-Macro: 0.3219448094612352\n"
     ]
    },
    {
     "name": "stderr",
     "output_type": "stream",
     "text": [
      "  5% 1/20 [00:31<09:57, 31.45s/it]"
     ]
    },
    {
     "name": "stdout",
     "output_type": "stream",
     "text": [
      "Fold1 Epoch/0, Val loss: 0.919059619307518, Acc: 0.45384615384615384, F1-Macro: 0.3121693121693122\n",
      "Fold1 /Epoch1, Train loss: 0.8100819401443005, Acc: 0.4748062015503876, F1-Macro: 0.3219448094612352\n",
      "Fold1 Epoch/1, Val loss: 0.9176013618707657, Acc: 0.45384615384615384, F1-Macro: 0.3121693121693122\n",
      "Validation loss decreased 0.919059619307518 -> 0.9176013618707657\n"
     ]
    },
    {
     "name": "stderr",
     "output_type": "stream",
     "text": [
      " 10% 2/20 [01:05<09:39, 32.20s/it]"
     ]
    },
    {
     "name": "stdout",
     "output_type": "stream",
     "text": [
      "Fold1 /Epoch2, Train loss: 0.8124032057821751, Acc: 0.4748062015503876, F1-Macro: 0.3219448094612352\n",
      "Fold1 Epoch/2, Val loss: 0.9438464790582657, Acc: 0.45384615384615384, F1-Macro: 0.3121693121693122\n",
      "Early stopping counter 1/15\n"
     ]
    },
    {
     "name": "stderr",
     "output_type": "stream",
     "text": [
      " 15% 3/20 [01:41<09:27, 33.37s/it]"
     ]
    },
    {
     "name": "stdout",
     "output_type": "stream",
     "text": [
      "Fold1 /Epoch3, Train loss: 0.8217786140739918, Acc: 0.4748062015503876, F1-Macro: 0.3219448094612352\n",
      "Fold1 Epoch/3, Val loss: 1.0140557140111923, Acc: 0.45384615384615384, F1-Macro: 0.3121693121693122\n",
      "Early stopping counter 2/15\n"
     ]
    },
    {
     "name": "stderr",
     "output_type": "stream",
     "text": [
      " 20% 4/20 [02:18<09:09, 34.35s/it]"
     ]
    },
    {
     "name": "stdout",
     "output_type": "stream",
     "text": [
      "Fold1 /Epoch4, Train loss: 0.8149823062121868, Acc: 0.4748062015503876, F1-Macro: 0.3219448094612352\n",
      "Fold1 Epoch/4, Val loss: 0.9714005142450333, Acc: 0.45384615384615384, F1-Macro: 0.3121693121693122\n",
      "Early stopping counter 3/15\n"
     ]
    },
    {
     "name": "stderr",
     "output_type": "stream",
     "text": [
      " 25% 5/20 [02:53<08:38, 34.56s/it]"
     ]
    },
    {
     "name": "stdout",
     "output_type": "stream",
     "text": [
      "Fold1 /Epoch5, Train loss: 0.7835660241544247, Acc: 0.4748062015503876, F1-Macro: 0.3219448094612352\n",
      "Fold1 Epoch/5, Val loss: 0.9451097398996353, Acc: 0.45384615384615384, F1-Macro: 0.3121693121693122\n",
      "Early stopping counter 4/15\n"
     ]
    },
    {
     "name": "stderr",
     "output_type": "stream",
     "text": [
      " 30% 6/20 [03:29<08:09, 34.95s/it]"
     ]
    },
    {
     "name": "stdout",
     "output_type": "stream",
     "text": [
      "Fold1 /Epoch6, Train loss: 0.7748399153351784, Acc: 0.4748062015503876, F1-Macro: 0.3219448094612352\n",
      "Fold1 Epoch/6, Val loss: 0.9819537103176117, Acc: 0.45384615384615384, F1-Macro: 0.3121693121693122\n",
      "Early stopping counter 5/15\n"
     ]
    },
    {
     "name": "stderr",
     "output_type": "stream",
     "text": [
      " 35% 7/20 [04:03<07:32, 34.82s/it]"
     ]
    },
    {
     "name": "stdout",
     "output_type": "stream",
     "text": [
      "Fold1 /Epoch7, Train loss: 0.7555335089564323, Acc: 0.49806201550387597, F1-Macro: 0.3827836713204358\n",
      "Fold1 Epoch/7, Val loss: 0.9130177795886993, Acc: 0.4846153846153846, F1-Macro: 0.3908664941604308\n",
      "Validation loss decreased 0.9176013618707657 -> 0.9130177795886993\n"
     ]
    },
    {
     "name": "stderr",
     "output_type": "stream",
     "text": [
      " 40% 8/20 [04:38<06:59, 34.98s/it]"
     ]
    },
    {
     "name": "stdout",
     "output_type": "stream",
     "text": [
      "Fold1 /Epoch8, Train loss: 0.733306273818016, Acc: 0.5562015503875969, F1-Macro: 0.5070070550342739\n",
      "Fold1 Epoch/8, Val loss: 0.7983413934707642, Acc: 0.5846153846153846, F1-Macro: 0.5501153550371699\n",
      "Validation loss decreased 0.9130177795886993 -> 0.7983413934707642\n"
     ]
    },
    {
     "name": "stderr",
     "output_type": "stream",
     "text": [
      " 45% 9/20 [05:14<06:28, 35.31s/it]"
     ]
    },
    {
     "name": "stdout",
     "output_type": "stream",
     "text": [
      "Fold1 /Epoch9, Train loss: 0.7001588866114616, Acc: 0.6027131782945736, F1-Macro: 0.5887742923675607\n",
      "Fold1 Epoch/9, Val loss: 0.8720510303974152, Acc: 0.5692307692307692, F1-Macro: 0.5512820512820512\n",
      "Early stopping counter 1/15\n"
     ]
    },
    {
     "name": "stderr",
     "output_type": "stream",
     "text": [
      " 50% 10/20 [05:48<05:48, 34.85s/it]"
     ]
    },
    {
     "name": "stdout",
     "output_type": "stream",
     "text": [
      "Fold1 /Epoch10, Train loss: 0.6891235336661339, Acc: 0.6589147286821705, F1-Macro: 0.6584991652001264\n",
      "Fold1 Epoch/10, Val loss: 0.8914550840854645, Acc: 0.6538461538461539, F1-Macro: 0.6513499016627928\n",
      "Early stopping counter 2/15\n"
     ]
    },
    {
     "name": "stderr",
     "output_type": "stream",
     "text": [
      " 55% 11/20 [06:24<05:15, 35.05s/it]"
     ]
    },
    {
     "name": "stdout",
     "output_type": "stream",
     "text": [
      "Fold1 /Epoch11, Train loss: 0.6735175848007202, Acc: 0.6375968992248062, F1-Macro: 0.6361085655454863\n",
      "Fold1 Epoch/11, Val loss: 0.8391846269369125, Acc: 0.6153846153846154, F1-Macro: 0.6150201374081972\n",
      "Early stopping counter 3/15\n"
     ]
    },
    {
     "name": "stderr",
     "output_type": "stream",
     "text": [
      " 60% 12/20 [06:59<04:40, 35.09s/it]"
     ]
    },
    {
     "name": "stdout",
     "output_type": "stream",
     "text": [
      "Fold1 /Epoch12, Train loss: 0.689425278455019, Acc: 0.6317829457364341, F1-Macro: 0.6273943447856491\n",
      "Fold1 Epoch/12, Val loss: 0.7787531316280365, Acc: 0.6846153846153846, F1-Macro: 0.649779880412642\n",
      "Validation loss decreased 0.7983413934707642 -> 0.7787531316280365\n"
     ]
    },
    {
     "name": "stderr",
     "output_type": "stream",
     "text": [
      " 65% 13/20 [07:34<04:06, 35.18s/it]"
     ]
    },
    {
     "name": "stdout",
     "output_type": "stream",
     "text": [
      "Fold1 /Epoch13, Train loss: 0.6802553944289684, Acc: 0.6569767441860465, F1-Macro: 0.6495735349977555\n",
      "Fold1 Epoch/13, Val loss: 0.7477509826421738, Acc: 0.7153846153846154, F1-Macro: 0.7104328457046535\n",
      "Validation loss decreased 0.7787531316280365 -> 0.7477509826421738\n"
     ]
    },
    {
     "name": "stderr",
     "output_type": "stream",
     "text": [
      " 70% 14/20 [08:09<03:30, 35.02s/it]"
     ]
    },
    {
     "name": "stdout",
     "output_type": "stream",
     "text": [
      "Fold1 /Epoch14, Train loss: 0.6830742135643959, Acc: 0.6472868217054264, F1-Macro: 0.6439436448839078\n",
      "Fold1 Epoch/14, Val loss: 0.7494165450334549, Acc: 0.6307692307692307, F1-Macro: 0.6036585365853658\n",
      "Early stopping counter 1/15\n"
     ]
    },
    {
     "name": "stderr",
     "output_type": "stream",
     "text": [
      " 75% 15/20 [08:44<02:54, 34.92s/it]"
     ]
    },
    {
     "name": "stdout",
     "output_type": "stream",
     "text": [
      "Fold1 /Epoch15, Train loss: 0.7106414511799812, Acc: 0.6065891472868217, F1-Macro: 0.6053425767194771\n",
      "Fold1 Epoch/15, Val loss: 1.0425012111663818, Acc: 0.5384615384615384, F1-Macro: 0.5045731707317074\n",
      "Early stopping counter 2/15\n"
     ]
    },
    {
     "name": "stderr",
     "output_type": "stream",
     "text": [
      " 80% 16/20 [09:20<02:20, 35.19s/it]"
     ]
    },
    {
     "name": "stdout",
     "output_type": "stream",
     "text": [
      "Fold1 /Epoch16, Train loss: 0.6407943852245808, Acc: 0.6686046511627907, F1-Macro: 0.6678249150136844\n",
      "Fold1 Epoch/16, Val loss: 0.6903221905231476, Acc: 0.6923076923076923, F1-Macro: 0.689663404153736\n",
      "Validation loss decreased 0.7477509826421738 -> 0.6903221905231476\n"
     ]
    },
    {
     "name": "stderr",
     "output_type": "stream",
     "text": [
      " 85% 17/20 [09:56<01:46, 35.45s/it]"
     ]
    },
    {
     "name": "stdout",
     "output_type": "stream",
     "text": [
      "Fold1 /Epoch17, Train loss: 0.6712611801922321, Acc: 0.6763565891472868, F1-Macro: 0.6731637935939011\n",
      "Fold1 Epoch/17, Val loss: 1.0348549038171768, Acc: 0.676923076923077, F1-Macro: 0.676923076923077\n",
      "Early stopping counter 1/15\n"
     ]
    },
    {
     "name": "stderr",
     "output_type": "stream",
     "text": [
      " 90% 18/20 [10:32<01:11, 35.86s/it]"
     ]
    },
    {
     "name": "stdout",
     "output_type": "stream",
     "text": [
      "Fold1 /Epoch18, Train loss: 0.6605439521372318, Acc: 0.6705426356589147, F1-Macro: 0.6663268566559652\n",
      "Fold1 Epoch/18, Val loss: 0.9845736622810364, Acc: 0.5692307692307692, F1-Macro: 0.41964285714285715\n",
      "Early stopping counter 2/15\n"
     ]
    },
    {
     "name": "stderr",
     "output_type": "stream",
     "text": [
      " 95% 19/20 [11:09<00:36, 36.00s/it]"
     ]
    },
    {
     "name": "stdout",
     "output_type": "stream",
     "text": [
      "Fold1 /Epoch19, Train loss: 0.6442991122603416, Acc: 0.686046511627907, F1-Macro: 0.6817434210526314\n",
      "Fold1 Epoch/19, Val loss: 0.8519811630249023, Acc: 0.6538461538461539, F1-Macro: 0.6426608026388125\n",
      "Early stopping counter 3/15\n"
     ]
    },
    {
     "name": "stderr",
     "output_type": "stream",
     "text": [
      "100% 20/20 [11:44<00:00, 35.23s/it]\n",
      "  0% 0/20 [00:00<?, ?it/s]"
     ]
    },
    {
     "name": "stdout",
     "output_type": "stream",
     "text": [
      "Fold 2\n",
      "Fold2 /Epoch0, Train loss: 0.6283993571996689, Acc: 0.6769825918762089, F1-Macro: 0.6731477590638759\n",
      "Fold2 Epoch/0, Val loss: 0.9149613231420517, Acc: 0.6356589147286822, F1-Macro: 0.5771081816279556\n",
      "Early stopping counter 4/15\n"
     ]
    },
    {
     "name": "stderr",
     "output_type": "stream",
     "text": [
      "  5% 1/20 [00:36<11:40, 36.85s/it]"
     ]
    },
    {
     "name": "stdout",
     "output_type": "stream",
     "text": [
      "Fold2 /Epoch1, Train loss: 0.6461136527359486, Acc: 0.6847195357833655, F1-Macro: 0.6824192679185839\n",
      "Fold2 Epoch/1, Val loss: 0.8790305927395821, Acc: 0.5813953488372093, F1-Macro: 0.5700000000000001\n",
      "Early stopping counter 5/15\n"
     ]
    },
    {
     "name": "stderr",
     "output_type": "stream",
     "text": [
      " 10% 2/20 [01:12<10:58, 36.59s/it]"
     ]
    },
    {
     "name": "stdout",
     "output_type": "stream",
     "text": [
      "Fold2 /Epoch2, Train loss: 0.621046356856823, Acc: 0.7079303675048356, F1-Macro: 0.707071161891897\n",
      "Fold2 Epoch/2, Val loss: 0.8101983219385147, Acc: 0.627906976744186, F1-Macro: 0.6177777777777778\n",
      "Early stopping counter 6/15\n"
     ]
    },
    {
     "name": "stderr",
     "output_type": "stream",
     "text": [
      " 15% 3/20 [01:48<10:17, 36.29s/it]"
     ]
    },
    {
     "name": "stdout",
     "output_type": "stream",
     "text": [
      "Fold2 /Epoch3, Train loss: 0.6307558864355087, Acc: 0.6789168278529981, F1-Macro: 0.6776033057851241\n",
      "Fold2 Epoch/3, Val loss: 0.6696475483477116, Acc: 0.6744186046511628, F1-Macro: 0.6195224719101123\n",
      "Validation loss decreased 0.6903221905231476 -> 0.6696475483477116\n"
     ]
    },
    {
     "name": "stderr",
     "output_type": "stream",
     "text": [
      " 20% 4/20 [02:24<09:40, 36.26s/it]"
     ]
    },
    {
     "name": "stdout",
     "output_type": "stream",
     "text": [
      "Fold2 /Epoch4, Train loss: 0.5884207859635353, Acc: 0.7156673114119922, F1-Macro: 0.7133984229163602\n",
      "Fold2 Epoch/4, Val loss: 0.746051549911499, Acc: 0.6434108527131783, F1-Macro: 0.6416666666666666\n",
      "Early stopping counter 1/15\n"
     ]
    },
    {
     "name": "stderr",
     "output_type": "stream",
     "text": [
      " 25% 5/20 [03:01<09:05, 36.39s/it]"
     ]
    },
    {
     "name": "stdout",
     "output_type": "stream",
     "text": [
      "Fold2 /Epoch5, Train loss: 0.6013682689517736, Acc: 0.688588007736944, F1-Macro: 0.6872353297035694\n",
      "Fold2 Epoch/5, Val loss: 1.7494859993457794, Acc: 0.5116279069767442, F1-Macro: 0.4404819277108434\n",
      "Early stopping counter 2/15\n"
     ]
    },
    {
     "name": "stderr",
     "output_type": "stream",
     "text": [
      " 30% 6/20 [03:36<08:25, 36.08s/it]"
     ]
    },
    {
     "name": "stdout",
     "output_type": "stream",
     "text": [
      "Fold2 /Epoch6, Train loss: 0.6344405729323626, Acc: 0.6982591876208898, F1-Macro: 0.6970247933884297\n",
      "Fold2 Epoch/6, Val loss: 0.8005426973104477, Acc: 0.6511627906976745, F1-Macro: 0.6425712702419801\n",
      "Early stopping counter 3/15\n"
     ]
    },
    {
     "name": "stderr",
     "output_type": "stream",
     "text": [
      " 35% 7/20 [04:13<07:50, 36.18s/it]"
     ]
    },
    {
     "name": "stdout",
     "output_type": "stream",
     "text": [
      "Fold2 /Epoch7, Train loss: 0.5465521030128002, Acc: 0.7369439071566731, F1-Macro: 0.7334728287239205\n",
      "Fold2 Epoch/7, Val loss: 0.7673079408705235, Acc: 0.6356589147286822, F1-Macro: 0.6202317569683682\n",
      "Early stopping counter 4/15\n"
     ]
    },
    {
     "name": "stderr",
     "output_type": "stream",
     "text": [
      " 40% 8/20 [04:50<07:19, 36.59s/it]"
     ]
    },
    {
     "name": "stdout",
     "output_type": "stream",
     "text": [
      "Fold2 /Epoch8, Train loss: 0.5565680135041475, Acc: 0.7524177949709865, F1-Macro: 0.7519268256110362\n",
      "Fold2 Epoch/8, Val loss: 1.483797863125801, Acc: 0.6434108527131783, F1-Macro: 0.6337037037037037\n",
      "Early stopping counter 5/15\n"
     ]
    },
    {
     "name": "stderr",
     "output_type": "stream",
     "text": [
      " 45% 9/20 [05:28<06:45, 36.85s/it]"
     ]
    },
    {
     "name": "stdout",
     "output_type": "stream",
     "text": [
      "Fold2 /Epoch9, Train loss: 0.5711120180785656, Acc: 0.723404255319149, F1-Macro: 0.7232012819504816\n",
      "Fold2 Epoch/9, Val loss: 0.7126422021538019, Acc: 0.6201550387596899, F1-Macro: 0.6040714062010648\n",
      "Early stopping counter 6/15\n"
     ]
    },
    {
     "name": "stderr",
     "output_type": "stream",
     "text": [
      " 50% 10/20 [06:03<06:04, 36.48s/it]"
     ]
    },
    {
     "name": "stdout",
     "output_type": "stream",
     "text": [
      "Fold2 /Epoch10, Train loss: 0.558912668377161, Acc: 0.7330754352030948, F1-Macro: 0.7312160940325497\n",
      "Fold2 Epoch/10, Val loss: 0.7015501521527767, Acc: 0.7286821705426356, F1-Macro: 0.728421052631579\n",
      "Early stopping counter 7/15\n"
     ]
    },
    {
     "name": "stderr",
     "output_type": "stream",
     "text": [
      " 55% 11/20 [06:39<05:26, 36.33s/it]"
     ]
    },
    {
     "name": "stdout",
     "output_type": "stream",
     "text": [
      "Fold2 /Epoch11, Train loss: 0.5805442873388529, Acc: 0.7311411992263056, F1-Macro: 0.7302328549602274\n",
      "Fold2 Epoch/11, Val loss: 1.055299624800682, Acc: 0.6589147286821705, F1-Macro: 0.6588942307692307\n",
      "Early stopping counter 8/15\n"
     ]
    },
    {
     "name": "stderr",
     "output_type": "stream",
     "text": [
      " 60% 12/20 [07:14<04:47, 35.96s/it]"
     ]
    },
    {
     "name": "stdout",
     "output_type": "stream",
     "text": [
      "Fold2 /Epoch12, Train loss: 0.5786979161202908, Acc: 0.7156673114119922, F1-Macro: 0.7153222332515499\n",
      "Fold2 Epoch/12, Val loss: 1.079151600599289, Acc: 0.4728682170542636, F1-Macro: 0.39983579638752054\n",
      "Early stopping counter 9/15\n"
     ]
    },
    {
     "name": "stderr",
     "output_type": "stream",
     "text": [
      " 65% 13/20 [07:50<04:11, 35.87s/it]"
     ]
    },
    {
     "name": "stdout",
     "output_type": "stream",
     "text": [
      "Fold2 /Epoch13, Train loss: 0.516137944534421, Acc: 0.7794970986460348, F1-Macro: 0.7779611211573236\n",
      "Fold2 Epoch/13, Val loss: 0.5865455660969019, Acc: 0.7441860465116279, F1-Macro: 0.7411371237458193\n",
      "Validation loss decreased 0.6696475483477116 -> 0.5865455660969019\n"
     ]
    },
    {
     "name": "stderr",
     "output_type": "stream",
     "text": [
      " 70% 14/20 [08:26<03:34, 35.80s/it]"
     ]
    },
    {
     "name": "stdout",
     "output_type": "stream",
     "text": [
      "Fold2 /Epoch14, Train loss: 0.5396831780672073, Acc: 0.7504835589941973, F1-Macro: 0.7498509074951334\n",
      "Fold2 Epoch/14, Val loss: 0.5531893540173769, Acc: 0.7286821705426356, F1-Macro: 0.7270418958950486\n",
      "Validation loss decreased 0.5865455660969019 -> 0.5531893540173769\n"
     ]
    },
    {
     "name": "stderr",
     "output_type": "stream",
     "text": [
      " 75% 15/20 [09:01<02:58, 35.77s/it]"
     ]
    },
    {
     "name": "stdout",
     "output_type": "stream",
     "text": [
      "Fold2 /Epoch15, Train loss: 0.5066552199423313, Acc: 0.7911025145067698, F1-Macro: 0.7908199964035246\n",
      "Fold2 Epoch/15, Val loss: 0.997361496090889, Acc: 0.6356589147286822, F1-Macro: 0.5825817555938038\n",
      "Early stopping counter 1/15\n"
     ]
    },
    {
     "name": "stderr",
     "output_type": "stream",
     "text": [
      " 80% 16/20 [09:37<02:23, 35.83s/it]"
     ]
    },
    {
     "name": "stdout",
     "output_type": "stream",
     "text": [
      "Fold2 /Epoch16, Train loss: 0.5492770280689001, Acc: 0.7330754352030948, F1-Macro: 0.732906558849955\n",
      "Fold2 Epoch/16, Val loss: 0.7534133493900299, Acc: 0.7131782945736435, F1-Macro: 0.7097598054119794\n",
      "Early stopping counter 2/15\n"
     ]
    },
    {
     "name": "stderr",
     "output_type": "stream",
     "text": [
      " 85% 17/20 [10:13<01:47, 35.76s/it]"
     ]
    },
    {
     "name": "stdout",
     "output_type": "stream",
     "text": [
      "Fold2 /Epoch17, Train loss: 0.5214590448886156, Acc: 0.7717601547388782, F1-Macro: 0.771307542360174\n",
      "Fold2 Epoch/17, Val loss: 0.640875754179433, Acc: 0.7131782945736435, F1-Macro: 0.7114442899461944\n",
      "Early stopping counter 3/15\n"
     ]
    },
    {
     "name": "stderr",
     "output_type": "stream",
     "text": [
      " 90% 18/20 [10:48<01:11, 35.50s/it]"
     ]
    },
    {
     "name": "stdout",
     "output_type": "stream",
     "text": [
      "Fold2 /Epoch18, Train loss: 0.49696910195052624, Acc: 0.7911025145067698, F1-Macro: 0.7909703504043127\n",
      "Fold2 Epoch/18, Val loss: 1.1408324837684631, Acc: 0.6124031007751938, F1-Macro: 0.6095641646489104\n",
      "Early stopping counter 4/15\n"
     ]
    },
    {
     "name": "stderr",
     "output_type": "stream",
     "text": [
      " 95% 19/20 [11:23<00:35, 35.56s/it]"
     ]
    },
    {
     "name": "stdout",
     "output_type": "stream",
     "text": [
      "Fold2 /Epoch19, Train loss: 0.5456359703093767, Acc: 0.7562862669245648, F1-Macro: 0.7557150571505715\n",
      "Fold2 Epoch/19, Val loss: 1.0585482120513916, Acc: 0.689922480620155, F1-Macro: 0.68900675024108\n",
      "Early stopping counter 5/15\n"
     ]
    },
    {
     "name": "stderr",
     "output_type": "stream",
     "text": [
      "100% 20/20 [11:59<00:00, 35.96s/it]\n",
      "  0% 0/20 [00:00<?, ?it/s]"
     ]
    },
    {
     "name": "stdout",
     "output_type": "stream",
     "text": [
      "Fold 3\n",
      "Fold3 /Epoch0, Train loss: 0.5287789739668369, Acc: 0.7678916827852998, F1-Macro: 0.7674313990103463\n",
      "Fold3 Epoch/0, Val loss: 2.4496460258960724, Acc: 0.5503875968992248, F1-Macro: 0.45908039329091965\n",
      "Early stopping counter 6/15\n"
     ]
    },
    {
     "name": "stderr",
     "output_type": "stream",
     "text": [
      "  5% 1/20 [00:36<11:24, 36.01s/it]"
     ]
    },
    {
     "name": "stdout",
     "output_type": "stream",
     "text": [
      "Fold3 /Epoch1, Train loss: 0.5353983212262392, Acc: 0.7620889748549323, F1-Macro: 0.7590565501562944\n",
      "Fold3 Epoch/1, Val loss: 0.9067958667874336, Acc: 0.6744186046511628, F1-Macro: 0.645233106338397\n",
      "Early stopping counter 7/15\n"
     ]
    },
    {
     "name": "stderr",
     "output_type": "stream",
     "text": [
      " 10% 2/20 [01:11<10:45, 35.85s/it]"
     ]
    },
    {
     "name": "stdout",
     "output_type": "stream",
     "text": [
      "Fold3 /Epoch2, Train loss: 0.590494628995657, Acc: 0.7040618955512572, F1-Macro: 0.696037781526555\n",
      "Fold3 Epoch/2, Val loss: 0.5450000558048487, Acc: 0.7596899224806202, F1-Macro: 0.7459500667047836\n",
      "Validation loss decreased 0.5531893540173769 -> 0.5450000558048487\n"
     ]
    },
    {
     "name": "stderr",
     "output_type": "stream",
     "text": [
      " 15% 3/20 [01:47<10:08, 35.77s/it]"
     ]
    },
    {
     "name": "stdout",
     "output_type": "stream",
     "text": [
      "Fold3 /Epoch3, Train loss: 0.521209891885519, Acc: 0.793036750483559, F1-Macro: 0.793033653216604\n",
      "Fold3 Epoch/3, Val loss: 0.5800228491425514, Acc: 0.8062015503875969, F1-Macro: 0.8045099108928896\n",
      "Early stopping counter 1/15\n"
     ]
    },
    {
     "name": "stderr",
     "output_type": "stream",
     "text": [
      " 20% 4/20 [02:22<09:31, 35.70s/it]"
     ]
    },
    {
     "name": "stdout",
     "output_type": "stream",
     "text": [
      "Fold3 /Epoch4, Train loss: 0.5135080218315125, Acc: 0.7369439071566731, F1-Macro: 0.733932733932734\n",
      "Fold3 Epoch/4, Val loss: 0.5585130155086517, Acc: 0.8062015503875969, F1-Macro: 0.8038917604134995\n",
      "Early stopping counter 2/15\n"
     ]
    },
    {
     "name": "stderr",
     "output_type": "stream",
     "text": [
      " 25% 5/20 [02:58<08:54, 35.65s/it]"
     ]
    },
    {
     "name": "stdout",
     "output_type": "stream",
     "text": [
      "Fold3 /Epoch5, Train loss: 0.44566429033875465, Acc: 0.8239845261121856, F1-Macro: 0.8236652236652238\n",
      "Fold3 Epoch/5, Val loss: 0.6043858751654625, Acc: 0.813953488372093, F1-Macro: 0.8125907990314771\n",
      "Early stopping counter 3/15\n"
     ]
    },
    {
     "name": "stderr",
     "output_type": "stream",
     "text": [
      " 30% 6/20 [03:33<08:18, 35.59s/it]"
     ]
    },
    {
     "name": "stdout",
     "output_type": "stream",
     "text": [
      "Fold3 /Epoch6, Train loss: 0.517170574516058, Acc: 0.758220502901354, F1-Macro: 0.756291175949286\n",
      "Fold3 Epoch/6, Val loss: 0.6568952202796936, Acc: 0.7209302325581395, F1-Macro: 0.7038265306122449\n",
      "Early stopping counter 4/15\n"
     ]
    },
    {
     "name": "stderr",
     "output_type": "stream",
     "text": [
      " 35% 7/20 [04:08<07:38, 35.26s/it]"
     ]
    },
    {
     "name": "stdout",
     "output_type": "stream",
     "text": [
      "Fold3 /Epoch7, Train loss: 0.4787125959992409, Acc: 0.7775628626692457, F1-Macro: 0.7772929035641376\n",
      "Fold3 Epoch/7, Val loss: 0.563700693892315, Acc: 0.751937984496124, F1-Macro: 0.7493929091792133\n",
      "Early stopping counter 5/15\n"
     ]
    },
    {
     "name": "stderr",
     "output_type": "stream",
     "text": [
      " 40% 8/20 [04:43<07:05, 35.44s/it]"
     ]
    },
    {
     "name": "stdout",
     "output_type": "stream",
     "text": [
      "Fold3 /Epoch8, Train loss: 0.4873117133975029, Acc: 0.7678916827852998, F1-Macro: 0.7659574468085106\n",
      "Fold3 Epoch/8, Val loss: 0.5546542033553123, Acc: 0.7906976744186046, F1-Macro: 0.790647352287071\n",
      "Early stopping counter 6/15\n"
     ]
    },
    {
     "name": "stderr",
     "output_type": "stream",
     "text": [
      " 45% 9/20 [05:17<06:24, 34.93s/it]"
     ]
    },
    {
     "name": "stdout",
     "output_type": "stream",
     "text": [
      "Fold3 /Epoch9, Train loss: 0.4790497962385416, Acc: 0.781431334622824, F1-Macro: 0.7808771515267448\n",
      "Fold3 Epoch/9, Val loss: 0.5856586212175898, Acc: 0.6976744186046512, F1-Macro: 0.665514261019879\n",
      "Early stopping counter 7/15\n"
     ]
    },
    {
     "name": "stderr",
     "output_type": "stream",
     "text": [
      " 50% 10/20 [05:52<05:50, 35.02s/it]"
     ]
    },
    {
     "name": "stdout",
     "output_type": "stream",
     "text": [
      "Fold3 /Epoch10, Train loss: 0.4368852972984314, Acc: 0.8181818181818182, F1-Macro: 0.8169153104279686\n",
      "Fold3 Epoch/10, Val loss: 0.9750858396291733, Acc: 0.7131782945736435, F1-Macro: 0.7010335108048857\n",
      "Early stopping counter 8/15\n"
     ]
    },
    {
     "name": "stderr",
     "output_type": "stream",
     "text": [
      " 55% 11/20 [06:28<05:16, 35.14s/it]"
     ]
    },
    {
     "name": "stdout",
     "output_type": "stream",
     "text": [
      "Fold3 /Epoch11, Train loss: 0.5084848273545504, Acc: 0.793036750483559, F1-Macro: 0.7917904015597184\n",
      "Fold3 Epoch/11, Val loss: 0.4083875906653702, Acc: 0.7984496124031008, F1-Macro: 0.7981463649494462\n",
      "Validation loss decreased 0.5450000558048487 -> 0.4083875906653702\n"
     ]
    },
    {
     "name": "stderr",
     "output_type": "stream",
     "text": [
      " 60% 12/20 [07:04<04:44, 35.52s/it]"
     ]
    },
    {
     "name": "stdout",
     "output_type": "stream",
     "text": [
      "Fold3 /Epoch12, Train loss: 0.4568099360913038, Acc: 0.7969052224371374, F1-Macro: 0.7963902735425505\n",
      "Fold3 Epoch/12, Val loss: 0.5442815367132425, Acc: 0.7674418604651163, F1-Macro: 0.7670919595570536\n",
      "Early stopping counter 1/15\n"
     ]
    },
    {
     "name": "stderr",
     "output_type": "stream",
     "text": [
      " 65% 13/20 [07:39<04:07, 35.34s/it]"
     ]
    },
    {
     "name": "stdout",
     "output_type": "stream",
     "text": [
      "Fold3 /Epoch13, Train loss: 0.48140874318778515, Acc: 0.7949709864603481, F1-Macro: 0.7943238455533538\n",
      "Fold3 Epoch/13, Val loss: 0.9930262323468924, Acc: 0.5891472868217055, F1-Macro: 0.4850493334337576\n",
      "Early stopping counter 2/15\n"
     ]
    },
    {
     "name": "stderr",
     "output_type": "stream",
     "text": [
      " 70% 14/20 [08:15<03:33, 35.58s/it]"
     ]
    },
    {
     "name": "stdout",
     "output_type": "stream",
     "text": [
      "Fold3 /Epoch14, Train loss: 0.49418268725275993, Acc: 0.7911025145067698, F1-Macro: 0.7892090241913563\n",
      "Fold3 Epoch/14, Val loss: 1.2053892090916634, Acc: 0.7596899224806202, F1-Macro: 0.7537713195000308\n",
      "Early stopping counter 3/15\n"
     ]
    },
    {
     "name": "stderr",
     "output_type": "stream",
     "text": [
      " 75% 15/20 [08:51<02:57, 35.49s/it]"
     ]
    },
    {
     "name": "stdout",
     "output_type": "stream",
     "text": [
      "Fold3 /Epoch15, Train loss: 0.4888536725193262, Acc: 0.7969052224371374, F1-Macro: 0.7967561860475565\n",
      "Fold3 Epoch/15, Val loss: 0.47127761598676443, Acc: 0.7984496124031008, F1-Macro: 0.792962962962963\n",
      "Early stopping counter 4/15\n"
     ]
    },
    {
     "name": "stderr",
     "output_type": "stream",
     "text": [
      " 80% 16/20 [09:25<02:20, 35.16s/it]"
     ]
    },
    {
     "name": "stdout",
     "output_type": "stream",
     "text": [
      "Fold3 /Epoch16, Train loss: 0.4972841050475836, Acc: 0.804642166344294, F1-Macro: 0.8029435628431798\n",
      "Fold3 Epoch/16, Val loss: 0.9825701117515564, Acc: 0.6124031007751938, F1-Macro: 0.53368999421631\n",
      "Early stopping counter 5/15\n"
     ]
    },
    {
     "name": "stderr",
     "output_type": "stream",
     "text": [
      " 85% 17/20 [10:00<01:45, 35.19s/it]"
     ]
    },
    {
     "name": "stdout",
     "output_type": "stream",
     "text": [
      "Fold3 /Epoch17, Train loss: 0.4425135310739279, Acc: 0.8181818181818182, F1-Macro: 0.8175257577122946\n",
      "Fold3 Epoch/17, Val loss: 0.8630791306495667, Acc: 0.7131782945736435, F1-Macro: 0.6967791118734515\n",
      "Early stopping counter 6/15\n"
     ]
    },
    {
     "name": "stderr",
     "output_type": "stream",
     "text": [
      " 90% 18/20 [10:36<01:10, 35.32s/it]"
     ]
    },
    {
     "name": "stdout",
     "output_type": "stream",
     "text": [
      "Fold3 /Epoch18, Train loss: 0.4598983768373728, Acc: 0.804642166344294, F1-Macro: 0.8032168469924967\n",
      "Fold3 Epoch/18, Val loss: 0.5669054705649614, Acc: 0.7364341085271318, F1-Macro: 0.7202806122448979\n",
      "Early stopping counter 7/15\n"
     ]
    },
    {
     "name": "stderr",
     "output_type": "stream",
     "text": [
      " 95% 19/20 [11:11<00:35, 35.21s/it]"
     ]
    },
    {
     "name": "stdout",
     "output_type": "stream",
     "text": [
      "Fold3 /Epoch19, Train loss: 0.471063943579793, Acc: 0.8027079303675049, F1-Macro: 0.801900826446281\n",
      "Fold3 Epoch/19, Val loss: 0.845401793718338, Acc: 0.8217054263565892, F1-Macro: 0.8215338345864662\n",
      "Early stopping counter 8/15\n"
     ]
    },
    {
     "name": "stderr",
     "output_type": "stream",
     "text": [
      "100% 20/20 [11:47<00:00, 35.40s/it]\n",
      "  0% 0/20 [00:00<?, ?it/s]"
     ]
    },
    {
     "name": "stdout",
     "output_type": "stream",
     "text": [
      "Fold 4\n",
      "Fold4 /Epoch0, Train loss: 0.5070088375359774, Acc: 0.7969052224371374, F1-Macro: 0.7966587380368213\n",
      "Fold4 Epoch/0, Val loss: 0.67521533370018, Acc: 0.7829457364341085, F1-Macro: 0.7828282828282829\n",
      "Early stopping counter 9/15\n"
     ]
    },
    {
     "name": "stderr",
     "output_type": "stream",
     "text": [
      "  5% 1/20 [00:34<11:04, 34.97s/it]"
     ]
    },
    {
     "name": "stdout",
     "output_type": "stream",
     "text": [
      "Fold4 /Epoch1, Train loss: 0.47902447544038296, Acc: 0.8007736943907157, F1-Macro: 0.8007259799794181\n",
      "Fold4 Epoch/1, Val loss: 0.5486987382173538, Acc: 0.7984496124031008, F1-Macro: 0.7981463649494462\n",
      "Early stopping counter 10/15\n"
     ]
    },
    {
     "name": "stderr",
     "output_type": "stream",
     "text": [
      " 10% 2/20 [01:09<10:28, 34.93s/it]"
     ]
    },
    {
     "name": "stdout",
     "output_type": "stream",
     "text": [
      "Fold4 /Epoch2, Train loss: 0.45069942250847816, Acc: 0.8143133462282398, F1-Macro: 0.8142959770114943\n",
      "Fold4 Epoch/2, Val loss: 0.6026361547410488, Acc: 0.7364341085271318, F1-Macro: 0.7154903995848468\n",
      "Early stopping counter 11/15\n"
     ]
    },
    {
     "name": "stderr",
     "output_type": "stream",
     "text": [
      " 15% 3/20 [01:45<09:58, 35.18s/it]"
     ]
    },
    {
     "name": "stdout",
     "output_type": "stream",
     "text": [
      "Fold4 /Epoch3, Train loss: 0.4352262709289789, Acc: 0.7988394584139265, F1-Macro: 0.7987483530961792\n",
      "Fold4 Epoch/3, Val loss: 1.0162706980481744, Acc: 0.5891472868217055, F1-Macro: 0.5544477028347996\n",
      "Early stopping counter 12/15\n"
     ]
    },
    {
     "name": "stderr",
     "output_type": "stream",
     "text": [
      " 20% 4/20 [02:20<09:21, 35.09s/it]"
     ]
    },
    {
     "name": "stdout",
     "output_type": "stream",
     "text": [
      "Fold4 /Epoch4, Train loss: 0.38602503202855587, Acc: 0.8181818181818182, F1-Macro: 0.8178212625581047\n",
      "Fold4 Epoch/4, Val loss: 0.746620049700141, Acc: 0.6744186046511628, F1-Macro: 0.6082995951417004\n",
      "Early stopping counter 13/15\n"
     ]
    },
    {
     "name": "stderr",
     "output_type": "stream",
     "text": [
      " 25% 5/20 [02:55<08:45, 35.02s/it]"
     ]
    },
    {
     "name": "stdout",
     "output_type": "stream",
     "text": [
      "Fold4 /Epoch5, Train loss: 0.4205979760736227, Acc: 0.8278529980657641, F1-Macro: 0.827726671983167\n",
      "Fold4 Epoch/5, Val loss: 1.0489352382719517, Acc: 0.6666666666666666, F1-Macro: 0.5746491833448355\n",
      "Early stopping counter 14/15\n"
     ]
    },
    {
     "name": "stderr",
     "output_type": "stream",
     "text": [
      " 30% 6/20 [03:29<08:08, 34.90s/it]"
     ]
    },
    {
     "name": "stdout",
     "output_type": "stream",
     "text": [
      "Fold4 /Epoch6, Train loss: 0.39626016188412905, Acc: 0.8143133462282398, F1-Macro: 0.8134584160202056\n"
     ]
    },
    {
     "name": "stderr",
     "output_type": "stream",
     "text": [
      " 30% 6/20 [04:04<09:30, 40.75s/it]\n",
      "  0% 0/20 [00:00<?, ?it/s]"
     ]
    },
    {
     "name": "stdout",
     "output_type": "stream",
     "text": [
      "Fold4 Epoch/6, Val loss: 0.6658061295747757, Acc: 0.7364341085271318, F1-Macro: 0.6999178981937602\n",
      "Early stopping counter 15/15\n",
      "Early stopped\n",
      "Fold 5\n",
      "Fold5 /Epoch0, Train loss: 0.3771307962015271, Acc: 0.8413926499032882, F1-Macro: 0.8404849342283496\n"
     ]
    },
    {
     "name": "stderr",
     "output_type": "stream",
     "text": [
      "  0% 0/20 [00:34<?, ?it/s]"
     ]
    },
    {
     "name": "stdout",
     "output_type": "stream",
     "text": [
      "Fold5 Epoch/0, Val loss: 1.0165654402517248, Acc: 0.6124031007751938, F1-Macro: 0.5852623456790124\n",
      "Early stopping counter 16/15\n",
      "Early stopped\n"
     ]
    },
    {
     "name": "stderr",
     "output_type": "stream",
     "text": [
      "\n"
     ]
    }
   ],
   "source": [
    "for fold, (train_idx,val_idx) in enumerate(splits.split(np.arange(len(dataset)))):\n",
    "\n",
    "    print('Fold {}'.format(fold + 1))\n",
    "\n",
    "    train_sampler = SubsetRandomSampler(train_idx)\n",
    "    test_sampler = SubsetRandomSampler(val_idx)\n",
    "    train_loader = DataLoader(dataset, batch_size=BATCH_SIZE, sampler=train_sampler)\n",
    "    test_loader = DataLoader(dataset, batch_size=BATCH_SIZE, sampler=test_sampler)\n",
    "    \n",
    "\n",
    "    for epoch_index in tqdm(range(EPOCHS)):\n",
    "\n",
    "\n",
    "        trainer_f.train_epoch(fold, train_loader, epoch_index)     \n",
    "        trainer_f.validate_epoch(fold, test_loader, epoch_index)\n",
    "\n",
    "        \n",
    "        # early_stopping check\n",
    "        early_stopper.check_early_stopping(loss=trainer_f.val_mean_loss)\n",
    "\n",
    "        if early_stopper.stop:\n",
    "            print('Early stopped')\n",
    "            break\n",
    "\n",
    "        if early_stopper.save_model:           \n",
    "            check_point = {\n",
    "                'model': model.state_dict(),\n",
    "                'optimizer': optimizer.state_dict(),\n",
    "                'scheduler': scheduler.state_dict()\n",
    "            }\n",
    "            torch.save(check_point, 'best_k.pt')"
   ]
  },
  {
   "cell_type": "markdown",
   "id": "d5aa8aef-b984-4133-b6b2-e1c85900f724",
   "metadata": {},
   "source": [
    "### epoch 단위 학습 진행"
   ]
  },
  {
   "cell_type": "code",
   "execution_count": 17,
   "id": "dcc35f70-25fc-48e1-92f8-8633b3b8be80",
   "metadata": {
    "tags": []
   },
   "outputs": [
    {
     "name": "stderr",
     "output_type": "stream",
     "text": [
      "  0% 0/20 [00:00<?, ?it/s]"
     ]
    },
    {
     "name": "stdout",
     "output_type": "stream",
     "text": [
      "Epoch 0, Train loss: 0.8268907070159912, Acc: 0.46124031007751937, F1-Macro: 0.3156498673740053\n"
     ]
    },
    {
     "name": "stderr",
     "output_type": "stream",
     "text": [
      "  0% 0/20 [00:32<?, ?it/s]\n"
     ]
    },
    {
     "ename": "RuntimeError",
     "evalue": "CUDA out of memory. Tried to allocate 30.00 MiB (GPU 0; 14.76 GiB total capacity; 8.95 GiB already allocated; 23.75 MiB free; 9.14 GiB reserved in total by PyTorch)",
     "output_type": "error",
     "traceback": [
      "\u001b[0;31m---------------------------------------------------------------------------\u001b[0m",
      "\u001b[0;31mRuntimeError\u001b[0m                              Traceback (most recent call last)",
      "\u001b[0;32m/tmp/ipykernel_34687/1989517217.py\u001b[0m in \u001b[0;36m<module>\u001b[0;34m\u001b[0m\n\u001b[1;32m      2\u001b[0m \u001b[0;34m\u001b[0m\u001b[0m\n\u001b[1;32m      3\u001b[0m     \u001b[0mtrainer\u001b[0m\u001b[0;34m.\u001b[0m\u001b[0mtrain_epoch\u001b[0m\u001b[0;34m(\u001b[0m\u001b[0mdataloader\u001b[0m\u001b[0;34m=\u001b[0m \u001b[0mtrain_dataloader\u001b[0m\u001b[0;34m,\u001b[0m \u001b[0mepoch_index\u001b[0m \u001b[0;34m=\u001b[0m \u001b[0mepoch_index\u001b[0m\u001b[0;34m)\u001b[0m\u001b[0;34m\u001b[0m\u001b[0;34m\u001b[0m\u001b[0m\n\u001b[0;32m----> 4\u001b[0;31m     \u001b[0mtrainer\u001b[0m\u001b[0;34m.\u001b[0m\u001b[0mvalidate_epoch\u001b[0m\u001b[0;34m(\u001b[0m\u001b[0mdataloader\u001b[0m\u001b[0;34m=\u001b[0m \u001b[0mvalidation_dataloader\u001b[0m\u001b[0;34m,\u001b[0m \u001b[0mepoch_index\u001b[0m \u001b[0;34m=\u001b[0m \u001b[0mepoch_index\u001b[0m\u001b[0;34m)\u001b[0m\u001b[0;34m\u001b[0m\u001b[0;34m\u001b[0m\u001b[0m\n\u001b[0m\u001b[1;32m      5\u001b[0m \u001b[0;34m\u001b[0m\u001b[0m\n\u001b[1;32m      6\u001b[0m     \u001b[0;31m# early_stopping check\u001b[0m\u001b[0;34m\u001b[0m\u001b[0;34m\u001b[0m\u001b[0;34m\u001b[0m\u001b[0m\n",
      "\u001b[0;32m/tmp/ipykernel_34687/2497283835.py\u001b[0m in \u001b[0;36mvalidate_epoch\u001b[0;34m(self, dataloader, epoch_index)\u001b[0m\n\u001b[1;32m     54\u001b[0m             \u001b[0mimg\u001b[0m \u001b[0;34m=\u001b[0m \u001b[0mimg\u001b[0m\u001b[0;34m.\u001b[0m\u001b[0mto\u001b[0m\u001b[0;34m(\u001b[0m\u001b[0mself\u001b[0m\u001b[0;34m.\u001b[0m\u001b[0mdevice\u001b[0m\u001b[0;34m)\u001b[0m\u001b[0;34m\u001b[0m\u001b[0;34m\u001b[0m\u001b[0m\n\u001b[1;32m     55\u001b[0m             \u001b[0mlabel\u001b[0m \u001b[0;34m=\u001b[0m \u001b[0mlabel\u001b[0m\u001b[0;34m.\u001b[0m\u001b[0mto\u001b[0m\u001b[0;34m(\u001b[0m\u001b[0mself\u001b[0m\u001b[0;34m.\u001b[0m\u001b[0mdevice\u001b[0m\u001b[0;34m)\u001b[0m\u001b[0;34m.\u001b[0m\u001b[0mfloat\u001b[0m\u001b[0;34m(\u001b[0m\u001b[0;34m)\u001b[0m\u001b[0;34m\u001b[0m\u001b[0;34m\u001b[0m\u001b[0m\n\u001b[0;32m---> 56\u001b[0;31m             \u001b[0mpred\u001b[0m \u001b[0;34m=\u001b[0m \u001b[0mself\u001b[0m\u001b[0;34m.\u001b[0m\u001b[0mmodel\u001b[0m\u001b[0;34m(\u001b[0m\u001b[0mimg\u001b[0m\u001b[0;34m)\u001b[0m\u001b[0;34m\u001b[0m\u001b[0;34m\u001b[0m\u001b[0m\n\u001b[0m\u001b[1;32m     57\u001b[0m \u001b[0;34m\u001b[0m\u001b[0m\n\u001b[1;32m     58\u001b[0m             \u001b[0mloss\u001b[0m \u001b[0;34m=\u001b[0m \u001b[0mself\u001b[0m\u001b[0;34m.\u001b[0m\u001b[0mloss_fn\u001b[0m\u001b[0;34m(\u001b[0m\u001b[0mpred\u001b[0m\u001b[0;34m[\u001b[0m\u001b[0;34m:\u001b[0m\u001b[0;34m,\u001b[0m\u001b[0;36m1\u001b[0m\u001b[0;34m]\u001b[0m\u001b[0;34m,\u001b[0m \u001b[0mlabel\u001b[0m\u001b[0;34m)\u001b[0m\u001b[0;34m\u001b[0m\u001b[0;34m\u001b[0m\u001b[0m\n",
      "\u001b[0;32m/opt/conda/lib/python3.8/site-packages/torch/nn/modules/module.py\u001b[0m in \u001b[0;36m_call_impl\u001b[0;34m(self, *input, **kwargs)\u001b[0m\n\u001b[1;32m    725\u001b[0m             \u001b[0mresult\u001b[0m \u001b[0;34m=\u001b[0m \u001b[0mself\u001b[0m\u001b[0;34m.\u001b[0m\u001b[0m_slow_forward\u001b[0m\u001b[0;34m(\u001b[0m\u001b[0;34m*\u001b[0m\u001b[0minput\u001b[0m\u001b[0;34m,\u001b[0m \u001b[0;34m**\u001b[0m\u001b[0mkwargs\u001b[0m\u001b[0;34m)\u001b[0m\u001b[0;34m\u001b[0m\u001b[0;34m\u001b[0m\u001b[0m\n\u001b[1;32m    726\u001b[0m         \u001b[0;32melse\u001b[0m\u001b[0;34m:\u001b[0m\u001b[0;34m\u001b[0m\u001b[0;34m\u001b[0m\u001b[0m\n\u001b[0;32m--> 727\u001b[0;31m             \u001b[0mresult\u001b[0m \u001b[0;34m=\u001b[0m \u001b[0mself\u001b[0m\u001b[0;34m.\u001b[0m\u001b[0mforward\u001b[0m\u001b[0;34m(\u001b[0m\u001b[0;34m*\u001b[0m\u001b[0minput\u001b[0m\u001b[0;34m,\u001b[0m \u001b[0;34m**\u001b[0m\u001b[0mkwargs\u001b[0m\u001b[0;34m)\u001b[0m\u001b[0;34m\u001b[0m\u001b[0;34m\u001b[0m\u001b[0m\n\u001b[0m\u001b[1;32m    728\u001b[0m         for hook in itertools.chain(\n\u001b[1;32m    729\u001b[0m                 \u001b[0m_global_forward_hooks\u001b[0m\u001b[0;34m.\u001b[0m\u001b[0mvalues\u001b[0m\u001b[0;34m(\u001b[0m\u001b[0;34m)\u001b[0m\u001b[0;34m,\u001b[0m\u001b[0;34m\u001b[0m\u001b[0;34m\u001b[0m\u001b[0m\n",
      "\u001b[0;32m/tmp/ipykernel_34687/3566641324.py\u001b[0m in \u001b[0;36mforward\u001b[0;34m(self, input_img)\u001b[0m\n\u001b[1;32m      9\u001b[0m \u001b[0;34m\u001b[0m\u001b[0m\n\u001b[1;32m     10\u001b[0m     \u001b[0;32mdef\u001b[0m \u001b[0mforward\u001b[0m\u001b[0;34m(\u001b[0m\u001b[0mself\u001b[0m\u001b[0;34m,\u001b[0m \u001b[0minput_img\u001b[0m\u001b[0;34m)\u001b[0m\u001b[0;34m:\u001b[0m\u001b[0;34m\u001b[0m\u001b[0;34m\u001b[0m\u001b[0m\n\u001b[0;32m---> 11\u001b[0;31m         \u001b[0mx\u001b[0m \u001b[0;34m=\u001b[0m \u001b[0mself\u001b[0m\u001b[0;34m.\u001b[0m\u001b[0mmodel\u001b[0m\u001b[0;34m(\u001b[0m\u001b[0minput_img\u001b[0m\u001b[0;34m)\u001b[0m\u001b[0;34m\u001b[0m\u001b[0;34m\u001b[0m\u001b[0m\n\u001b[0m\u001b[1;32m     12\u001b[0m         \u001b[0mx\u001b[0m \u001b[0;34m=\u001b[0m \u001b[0mself\u001b[0m\u001b[0;34m.\u001b[0m\u001b[0msoftmax\u001b[0m\u001b[0;34m(\u001b[0m\u001b[0mx\u001b[0m\u001b[0;34m)\u001b[0m\u001b[0;34m\u001b[0m\u001b[0;34m\u001b[0m\u001b[0m\n\u001b[1;32m     13\u001b[0m         \u001b[0;32mreturn\u001b[0m \u001b[0mx\u001b[0m\u001b[0;34m\u001b[0m\u001b[0;34m\u001b[0m\u001b[0m\n",
      "\u001b[0;32m/opt/conda/lib/python3.8/site-packages/torch/nn/modules/module.py\u001b[0m in \u001b[0;36m_call_impl\u001b[0;34m(self, *input, **kwargs)\u001b[0m\n\u001b[1;32m    725\u001b[0m             \u001b[0mresult\u001b[0m \u001b[0;34m=\u001b[0m \u001b[0mself\u001b[0m\u001b[0;34m.\u001b[0m\u001b[0m_slow_forward\u001b[0m\u001b[0;34m(\u001b[0m\u001b[0;34m*\u001b[0m\u001b[0minput\u001b[0m\u001b[0;34m,\u001b[0m \u001b[0;34m**\u001b[0m\u001b[0mkwargs\u001b[0m\u001b[0;34m)\u001b[0m\u001b[0;34m\u001b[0m\u001b[0;34m\u001b[0m\u001b[0m\n\u001b[1;32m    726\u001b[0m         \u001b[0;32melse\u001b[0m\u001b[0;34m:\u001b[0m\u001b[0;34m\u001b[0m\u001b[0;34m\u001b[0m\u001b[0m\n\u001b[0;32m--> 727\u001b[0;31m             \u001b[0mresult\u001b[0m \u001b[0;34m=\u001b[0m \u001b[0mself\u001b[0m\u001b[0;34m.\u001b[0m\u001b[0mforward\u001b[0m\u001b[0;34m(\u001b[0m\u001b[0;34m*\u001b[0m\u001b[0minput\u001b[0m\u001b[0;34m,\u001b[0m \u001b[0;34m**\u001b[0m\u001b[0mkwargs\u001b[0m\u001b[0;34m)\u001b[0m\u001b[0;34m\u001b[0m\u001b[0;34m\u001b[0m\u001b[0m\n\u001b[0m\u001b[1;32m    728\u001b[0m         for hook in itertools.chain(\n\u001b[1;32m    729\u001b[0m                 \u001b[0m_global_forward_hooks\u001b[0m\u001b[0;34m.\u001b[0m\u001b[0mvalues\u001b[0m\u001b[0;34m(\u001b[0m\u001b[0;34m)\u001b[0m\u001b[0;34m,\u001b[0m\u001b[0;34m\u001b[0m\u001b[0;34m\u001b[0m\u001b[0m\n",
      "\u001b[0;32m/opt/conda/lib/python3.8/site-packages/torchvision/models/resnet.py\u001b[0m in \u001b[0;36mforward\u001b[0;34m(self, x)\u001b[0m\n\u001b[1;32m    218\u001b[0m \u001b[0;34m\u001b[0m\u001b[0m\n\u001b[1;32m    219\u001b[0m     \u001b[0;32mdef\u001b[0m \u001b[0mforward\u001b[0m\u001b[0;34m(\u001b[0m\u001b[0mself\u001b[0m\u001b[0;34m,\u001b[0m \u001b[0mx\u001b[0m\u001b[0;34m)\u001b[0m\u001b[0;34m:\u001b[0m\u001b[0;34m\u001b[0m\u001b[0;34m\u001b[0m\u001b[0m\n\u001b[0;32m--> 220\u001b[0;31m         \u001b[0;32mreturn\u001b[0m \u001b[0mself\u001b[0m\u001b[0;34m.\u001b[0m\u001b[0m_forward_impl\u001b[0m\u001b[0;34m(\u001b[0m\u001b[0mx\u001b[0m\u001b[0;34m)\u001b[0m\u001b[0;34m\u001b[0m\u001b[0;34m\u001b[0m\u001b[0m\n\u001b[0m\u001b[1;32m    221\u001b[0m \u001b[0;34m\u001b[0m\u001b[0m\n\u001b[1;32m    222\u001b[0m \u001b[0;34m\u001b[0m\u001b[0m\n",
      "\u001b[0;32m/opt/conda/lib/python3.8/site-packages/torchvision/models/resnet.py\u001b[0m in \u001b[0;36m_forward_impl\u001b[0;34m(self, x)\u001b[0m\n\u001b[1;32m    208\u001b[0m         \u001b[0mx\u001b[0m \u001b[0;34m=\u001b[0m \u001b[0mself\u001b[0m\u001b[0;34m.\u001b[0m\u001b[0mlayer1\u001b[0m\u001b[0;34m(\u001b[0m\u001b[0mx\u001b[0m\u001b[0;34m)\u001b[0m\u001b[0;34m\u001b[0m\u001b[0;34m\u001b[0m\u001b[0m\n\u001b[1;32m    209\u001b[0m         \u001b[0mx\u001b[0m \u001b[0;34m=\u001b[0m \u001b[0mself\u001b[0m\u001b[0;34m.\u001b[0m\u001b[0mlayer2\u001b[0m\u001b[0;34m(\u001b[0m\u001b[0mx\u001b[0m\u001b[0;34m)\u001b[0m\u001b[0;34m\u001b[0m\u001b[0;34m\u001b[0m\u001b[0m\n\u001b[0;32m--> 210\u001b[0;31m         \u001b[0mx\u001b[0m \u001b[0;34m=\u001b[0m \u001b[0mself\u001b[0m\u001b[0;34m.\u001b[0m\u001b[0mlayer3\u001b[0m\u001b[0;34m(\u001b[0m\u001b[0mx\u001b[0m\u001b[0;34m)\u001b[0m\u001b[0;34m\u001b[0m\u001b[0;34m\u001b[0m\u001b[0m\n\u001b[0m\u001b[1;32m    211\u001b[0m         \u001b[0mx\u001b[0m \u001b[0;34m=\u001b[0m \u001b[0mself\u001b[0m\u001b[0;34m.\u001b[0m\u001b[0mlayer4\u001b[0m\u001b[0;34m(\u001b[0m\u001b[0mx\u001b[0m\u001b[0;34m)\u001b[0m\u001b[0;34m\u001b[0m\u001b[0;34m\u001b[0m\u001b[0m\n\u001b[1;32m    212\u001b[0m \u001b[0;34m\u001b[0m\u001b[0m\n",
      "\u001b[0;32m/opt/conda/lib/python3.8/site-packages/torch/nn/modules/module.py\u001b[0m in \u001b[0;36m_call_impl\u001b[0;34m(self, *input, **kwargs)\u001b[0m\n\u001b[1;32m    725\u001b[0m             \u001b[0mresult\u001b[0m \u001b[0;34m=\u001b[0m \u001b[0mself\u001b[0m\u001b[0;34m.\u001b[0m\u001b[0m_slow_forward\u001b[0m\u001b[0;34m(\u001b[0m\u001b[0;34m*\u001b[0m\u001b[0minput\u001b[0m\u001b[0;34m,\u001b[0m \u001b[0;34m**\u001b[0m\u001b[0mkwargs\u001b[0m\u001b[0;34m)\u001b[0m\u001b[0;34m\u001b[0m\u001b[0;34m\u001b[0m\u001b[0m\n\u001b[1;32m    726\u001b[0m         \u001b[0;32melse\u001b[0m\u001b[0;34m:\u001b[0m\u001b[0;34m\u001b[0m\u001b[0;34m\u001b[0m\u001b[0m\n\u001b[0;32m--> 727\u001b[0;31m             \u001b[0mresult\u001b[0m \u001b[0;34m=\u001b[0m \u001b[0mself\u001b[0m\u001b[0;34m.\u001b[0m\u001b[0mforward\u001b[0m\u001b[0;34m(\u001b[0m\u001b[0;34m*\u001b[0m\u001b[0minput\u001b[0m\u001b[0;34m,\u001b[0m \u001b[0;34m**\u001b[0m\u001b[0mkwargs\u001b[0m\u001b[0;34m)\u001b[0m\u001b[0;34m\u001b[0m\u001b[0;34m\u001b[0m\u001b[0m\n\u001b[0m\u001b[1;32m    728\u001b[0m         for hook in itertools.chain(\n\u001b[1;32m    729\u001b[0m                 \u001b[0m_global_forward_hooks\u001b[0m\u001b[0;34m.\u001b[0m\u001b[0mvalues\u001b[0m\u001b[0;34m(\u001b[0m\u001b[0;34m)\u001b[0m\u001b[0;34m,\u001b[0m\u001b[0;34m\u001b[0m\u001b[0;34m\u001b[0m\u001b[0m\n",
      "\u001b[0;32m/opt/conda/lib/python3.8/site-packages/torch/nn/modules/container.py\u001b[0m in \u001b[0;36mforward\u001b[0;34m(self, input)\u001b[0m\n\u001b[1;32m    115\u001b[0m     \u001b[0;32mdef\u001b[0m \u001b[0mforward\u001b[0m\u001b[0;34m(\u001b[0m\u001b[0mself\u001b[0m\u001b[0;34m,\u001b[0m \u001b[0minput\u001b[0m\u001b[0;34m)\u001b[0m\u001b[0;34m:\u001b[0m\u001b[0;34m\u001b[0m\u001b[0;34m\u001b[0m\u001b[0m\n\u001b[1;32m    116\u001b[0m         \u001b[0;32mfor\u001b[0m \u001b[0mmodule\u001b[0m \u001b[0;32min\u001b[0m \u001b[0mself\u001b[0m\u001b[0;34m:\u001b[0m\u001b[0;34m\u001b[0m\u001b[0;34m\u001b[0m\u001b[0m\n\u001b[0;32m--> 117\u001b[0;31m             \u001b[0minput\u001b[0m \u001b[0;34m=\u001b[0m \u001b[0mmodule\u001b[0m\u001b[0;34m(\u001b[0m\u001b[0minput\u001b[0m\u001b[0;34m)\u001b[0m\u001b[0;34m\u001b[0m\u001b[0;34m\u001b[0m\u001b[0m\n\u001b[0m\u001b[1;32m    118\u001b[0m         \u001b[0;32mreturn\u001b[0m \u001b[0minput\u001b[0m\u001b[0;34m\u001b[0m\u001b[0;34m\u001b[0m\u001b[0m\n\u001b[1;32m    119\u001b[0m \u001b[0;34m\u001b[0m\u001b[0m\n",
      "\u001b[0;32m/opt/conda/lib/python3.8/site-packages/torch/nn/modules/module.py\u001b[0m in \u001b[0;36m_call_impl\u001b[0;34m(self, *input, **kwargs)\u001b[0m\n\u001b[1;32m    725\u001b[0m             \u001b[0mresult\u001b[0m \u001b[0;34m=\u001b[0m \u001b[0mself\u001b[0m\u001b[0;34m.\u001b[0m\u001b[0m_slow_forward\u001b[0m\u001b[0;34m(\u001b[0m\u001b[0;34m*\u001b[0m\u001b[0minput\u001b[0m\u001b[0;34m,\u001b[0m \u001b[0;34m**\u001b[0m\u001b[0mkwargs\u001b[0m\u001b[0;34m)\u001b[0m\u001b[0;34m\u001b[0m\u001b[0;34m\u001b[0m\u001b[0m\n\u001b[1;32m    726\u001b[0m         \u001b[0;32melse\u001b[0m\u001b[0;34m:\u001b[0m\u001b[0;34m\u001b[0m\u001b[0;34m\u001b[0m\u001b[0m\n\u001b[0;32m--> 727\u001b[0;31m             \u001b[0mresult\u001b[0m \u001b[0;34m=\u001b[0m \u001b[0mself\u001b[0m\u001b[0;34m.\u001b[0m\u001b[0mforward\u001b[0m\u001b[0;34m(\u001b[0m\u001b[0;34m*\u001b[0m\u001b[0minput\u001b[0m\u001b[0;34m,\u001b[0m \u001b[0;34m**\u001b[0m\u001b[0mkwargs\u001b[0m\u001b[0;34m)\u001b[0m\u001b[0;34m\u001b[0m\u001b[0;34m\u001b[0m\u001b[0m\n\u001b[0m\u001b[1;32m    728\u001b[0m         for hook in itertools.chain(\n\u001b[1;32m    729\u001b[0m                 \u001b[0m_global_forward_hooks\u001b[0m\u001b[0;34m.\u001b[0m\u001b[0mvalues\u001b[0m\u001b[0;34m(\u001b[0m\u001b[0;34m)\u001b[0m\u001b[0;34m,\u001b[0m\u001b[0;34m\u001b[0m\u001b[0;34m\u001b[0m\u001b[0m\n",
      "\u001b[0;32m/opt/conda/lib/python3.8/site-packages/torchvision/models/resnet.py\u001b[0m in \u001b[0;36mforward\u001b[0;34m(self, x)\u001b[0m\n\u001b[1;32m     62\u001b[0m \u001b[0;34m\u001b[0m\u001b[0m\n\u001b[1;32m     63\u001b[0m         \u001b[0mout\u001b[0m \u001b[0;34m=\u001b[0m \u001b[0mself\u001b[0m\u001b[0;34m.\u001b[0m\u001b[0mconv2\u001b[0m\u001b[0;34m(\u001b[0m\u001b[0mout\u001b[0m\u001b[0;34m)\u001b[0m\u001b[0;34m\u001b[0m\u001b[0;34m\u001b[0m\u001b[0m\n\u001b[0;32m---> 64\u001b[0;31m         \u001b[0mout\u001b[0m \u001b[0;34m=\u001b[0m \u001b[0mself\u001b[0m\u001b[0;34m.\u001b[0m\u001b[0mbn2\u001b[0m\u001b[0;34m(\u001b[0m\u001b[0mout\u001b[0m\u001b[0;34m)\u001b[0m\u001b[0;34m\u001b[0m\u001b[0;34m\u001b[0m\u001b[0m\n\u001b[0m\u001b[1;32m     65\u001b[0m \u001b[0;34m\u001b[0m\u001b[0m\n\u001b[1;32m     66\u001b[0m         \u001b[0;32mif\u001b[0m \u001b[0mself\u001b[0m\u001b[0;34m.\u001b[0m\u001b[0mdownsample\u001b[0m \u001b[0;32mis\u001b[0m \u001b[0;32mnot\u001b[0m \u001b[0;32mNone\u001b[0m\u001b[0;34m:\u001b[0m\u001b[0;34m\u001b[0m\u001b[0;34m\u001b[0m\u001b[0m\n",
      "\u001b[0;32m/opt/conda/lib/python3.8/site-packages/torch/nn/modules/module.py\u001b[0m in \u001b[0;36m_call_impl\u001b[0;34m(self, *input, **kwargs)\u001b[0m\n\u001b[1;32m    725\u001b[0m             \u001b[0mresult\u001b[0m \u001b[0;34m=\u001b[0m \u001b[0mself\u001b[0m\u001b[0;34m.\u001b[0m\u001b[0m_slow_forward\u001b[0m\u001b[0;34m(\u001b[0m\u001b[0;34m*\u001b[0m\u001b[0minput\u001b[0m\u001b[0;34m,\u001b[0m \u001b[0;34m**\u001b[0m\u001b[0mkwargs\u001b[0m\u001b[0;34m)\u001b[0m\u001b[0;34m\u001b[0m\u001b[0;34m\u001b[0m\u001b[0m\n\u001b[1;32m    726\u001b[0m         \u001b[0;32melse\u001b[0m\u001b[0;34m:\u001b[0m\u001b[0;34m\u001b[0m\u001b[0;34m\u001b[0m\u001b[0m\n\u001b[0;32m--> 727\u001b[0;31m             \u001b[0mresult\u001b[0m \u001b[0;34m=\u001b[0m \u001b[0mself\u001b[0m\u001b[0;34m.\u001b[0m\u001b[0mforward\u001b[0m\u001b[0;34m(\u001b[0m\u001b[0;34m*\u001b[0m\u001b[0minput\u001b[0m\u001b[0;34m,\u001b[0m \u001b[0;34m**\u001b[0m\u001b[0mkwargs\u001b[0m\u001b[0;34m)\u001b[0m\u001b[0;34m\u001b[0m\u001b[0;34m\u001b[0m\u001b[0m\n\u001b[0m\u001b[1;32m    728\u001b[0m         for hook in itertools.chain(\n\u001b[1;32m    729\u001b[0m                 \u001b[0m_global_forward_hooks\u001b[0m\u001b[0;34m.\u001b[0m\u001b[0mvalues\u001b[0m\u001b[0;34m(\u001b[0m\u001b[0;34m)\u001b[0m\u001b[0;34m,\u001b[0m\u001b[0;34m\u001b[0m\u001b[0;34m\u001b[0m\u001b[0m\n",
      "\u001b[0;32m/opt/conda/lib/python3.8/site-packages/torch/nn/modules/batchnorm.py\u001b[0m in \u001b[0;36mforward\u001b[0;34m(self, input)\u001b[0m\n\u001b[1;32m    129\u001b[0m         \u001b[0mused\u001b[0m \u001b[0;32mfor\u001b[0m \u001b[0mnormalization\u001b[0m \u001b[0;34m(\u001b[0m\u001b[0mi\u001b[0m\u001b[0;34m.\u001b[0m\u001b[0me\u001b[0m\u001b[0;34m.\u001b[0m \u001b[0;32min\u001b[0m \u001b[0meval\u001b[0m \u001b[0mmode\u001b[0m \u001b[0mwhen\u001b[0m \u001b[0mbuffers\u001b[0m \u001b[0mare\u001b[0m \u001b[0;32mnot\u001b[0m \u001b[0;32mNone\u001b[0m\u001b[0;34m)\u001b[0m\u001b[0;34m.\u001b[0m\u001b[0;34m\u001b[0m\u001b[0;34m\u001b[0m\u001b[0m\n\u001b[1;32m    130\u001b[0m         \"\"\"\n\u001b[0;32m--> 131\u001b[0;31m         return F.batch_norm(\n\u001b[0m\u001b[1;32m    132\u001b[0m             \u001b[0minput\u001b[0m\u001b[0;34m,\u001b[0m\u001b[0;34m\u001b[0m\u001b[0;34m\u001b[0m\u001b[0m\n\u001b[1;32m    133\u001b[0m             \u001b[0;31m# If buffers are not to be tracked, ensure that they won't be updated\u001b[0m\u001b[0;34m\u001b[0m\u001b[0;34m\u001b[0m\u001b[0;34m\u001b[0m\u001b[0m\n",
      "\u001b[0;32m/opt/conda/lib/python3.8/site-packages/torch/nn/functional.py\u001b[0m in \u001b[0;36mbatch_norm\u001b[0;34m(input, running_mean, running_var, weight, bias, training, momentum, eps)\u001b[0m\n\u001b[1;32m   2054\u001b[0m         \u001b[0m_verify_batch_size\u001b[0m\u001b[0;34m(\u001b[0m\u001b[0minput\u001b[0m\u001b[0;34m.\u001b[0m\u001b[0msize\u001b[0m\u001b[0;34m(\u001b[0m\u001b[0;34m)\u001b[0m\u001b[0;34m)\u001b[0m\u001b[0;34m\u001b[0m\u001b[0;34m\u001b[0m\u001b[0m\n\u001b[1;32m   2055\u001b[0m \u001b[0;34m\u001b[0m\u001b[0m\n\u001b[0;32m-> 2056\u001b[0;31m     return torch.batch_norm(\n\u001b[0m\u001b[1;32m   2057\u001b[0m         \u001b[0minput\u001b[0m\u001b[0;34m,\u001b[0m \u001b[0mweight\u001b[0m\u001b[0;34m,\u001b[0m \u001b[0mbias\u001b[0m\u001b[0;34m,\u001b[0m \u001b[0mrunning_mean\u001b[0m\u001b[0;34m,\u001b[0m \u001b[0mrunning_var\u001b[0m\u001b[0;34m,\u001b[0m\u001b[0;34m\u001b[0m\u001b[0;34m\u001b[0m\u001b[0m\n\u001b[1;32m   2058\u001b[0m         \u001b[0mtraining\u001b[0m\u001b[0;34m,\u001b[0m \u001b[0mmomentum\u001b[0m\u001b[0;34m,\u001b[0m \u001b[0meps\u001b[0m\u001b[0;34m,\u001b[0m \u001b[0mtorch\u001b[0m\u001b[0;34m.\u001b[0m\u001b[0mbackends\u001b[0m\u001b[0;34m.\u001b[0m\u001b[0mcudnn\u001b[0m\u001b[0;34m.\u001b[0m\u001b[0menabled\u001b[0m\u001b[0;34m\u001b[0m\u001b[0;34m\u001b[0m\u001b[0m\n",
      "\u001b[0;31mRuntimeError\u001b[0m: CUDA out of memory. Tried to allocate 30.00 MiB (GPU 0; 14.76 GiB total capacity; 8.95 GiB already allocated; 23.75 MiB free; 9.14 GiB reserved in total by PyTorch)"
     ]
    }
   ],
   "source": [
    "for epoch_index in tqdm(range(EPOCHS)):\n",
    "\n",
    "    trainer.train_epoch(dataloader= train_dataloader, epoch_index = epoch_index)\n",
    "    trainer.validate_epoch(dataloader= validation_dataloader, epoch_index = epoch_index)\n",
    "\n",
    "    # early_stopping check\n",
    "    early_stopper.check_early_stopping(loss=trainer.val_mean_loss)\n",
    "\n",
    "    if early_stopper.stop:\n",
    "        print('Early stopped')\n",
    "        break\n",
    "\n",
    "    if early_stopper.save_model:\n",
    "        check_point = {\n",
    "            'model': model.state_dict(),\n",
    "            'optimizer': optimizer.state_dict(),\n",
    "            'scheduler': scheduler.state_dict()\n",
    "        }\n",
    "        torch.save(check_point, 'best_k.pt')\n"
   ]
  },
  {
   "cell_type": "markdown",
   "id": "fe53514a-e83f-4795-9589-640f26cc2993",
   "metadata": {},
   "source": [
    "## Inference\n",
    "### 모델 로드"
   ]
  },
  {
   "cell_type": "code",
   "execution_count": 63,
   "id": "6729cfde-c4b3-4d36-938e-f8bb8d8afef3",
   "metadata": {},
   "outputs": [],
   "source": [
    "TRAINED_MODEL_PATH = 'best_k.pt'"
   ]
  },
  {
   "cell_type": "markdown",
   "id": "75bbba92-b53c-499f-b5f9-b6ac3edde331",
   "metadata": {},
   "source": [
    "### Load dataset"
   ]
  },
  {
   "cell_type": "code",
   "execution_count": 64,
   "id": "ced90de9-50ec-4e18-9f42-5a1b493941a5",
   "metadata": {},
   "outputs": [],
   "source": [
    "class TestDataset(Dataset):\n",
    "    def __init__(self, data_dir, input_shape):\n",
    "        self.data_dir = data_dir\n",
    "        self.input_shape = input_shape\n",
    "        \n",
    "        # Loading dataset\n",
    "        self.db = self.data_loader()\n",
    "        \n",
    "        # Transform function\n",
    "        self.transform = transforms.Compose([transforms.Resize(self.input_shape),\n",
    "                                             transforms.ToTensor(),\n",
    "                                             transforms.Normalize([0.485, 0.456, 0.406], [0.229, 0.224, 0.225])])\n",
    "\n",
    "    def data_loader(self):\n",
    "        print('Loading test dataset..')\n",
    "        if not os.path.isdir(self.data_dir):\n",
    "            print(f'!!! Cannot find {self.data_dir}... !!!')\n",
    "            sys.exit()\n",
    "        \n",
    "        db = pd.read_csv(os.path.join(self.data_dir, 'sample_submission.csv'))\n",
    "        return db\n",
    "    \n",
    "    def __len__(self):\n",
    "        return len(self.db)\n",
    "    \n",
    "    def __getitem__(self, index):\n",
    "        data = copy.deepcopy(self.db.loc[index])\n",
    "        \n",
    "        # Loading image\n",
    "        cvimg = cv2.imread(os.path.join(self.data_dir,'test',data['file_name']), cv2.IMREAD_COLOR | cv2.IMREAD_IGNORE_ORIENTATION)\n",
    "        if not isinstance(cvimg, np.ndarray):\n",
    "            raise IOError(\"Fail to read %s\" % data['file_name'])\n",
    "\n",
    "        # Preprocessing images\n",
    "        trans_image = self.transform(Image.fromarray(cvimg))\n",
    "\n",
    "        return trans_image, data['file_name']"
   ]
  },
  {
   "cell_type": "code",
   "execution_count": 65,
   "id": "cdd31a3d-08cd-48fc-87b0-137976d4d4bb",
   "metadata": {},
   "outputs": [
    {
     "name": "stdout",
     "output_type": "stream",
     "text": [
      "Loading test dataset..\n"
     ]
    }
   ],
   "source": [
    "# Load dataset & dataloader\n",
    "test_dataset = TestDataset(data_dir=DATA_DIR, input_shape=INPUT_SHAPE)\n",
    "test_dataloader = DataLoader(dataset=test_dataset, batch_size=BATCH_SIZE, shuffle=False)"
   ]
  },
  {
   "cell_type": "code",
   "execution_count": 66,
   "id": "ceab2318-ee3a-43c1-91bb-3a0b5138a885",
   "metadata": {},
   "outputs": [
    {
     "data": {
      "text/plain": [
       "100"
      ]
     },
     "execution_count": 66,
     "metadata": {},
     "output_type": "execute_result"
    }
   ],
   "source": [
    "len(test_dataset)"
   ]
  },
  {
   "cell_type": "markdown",
   "id": "53efd72b-172d-4e34-a1dd-65ed8c745b58",
   "metadata": {},
   "source": [
    "### 추론 진행"
   ]
  },
  {
   "cell_type": "code",
   "execution_count": 67,
   "id": "2478b8d5-c566-45fc-a44c-33d156a76ad9",
   "metadata": {},
   "outputs": [
    {
     "data": {
      "text/plain": [
       "<All keys matched successfully>"
      ]
     },
     "execution_count": 67,
     "metadata": {},
     "output_type": "execute_result"
    }
   ],
   "source": [
    "model.load_state_dict(torch.load(TRAINED_MODEL_PATH)['model'])\n"
   ]
  },
  {
   "cell_type": "code",
   "execution_count": 68,
   "id": "9f46bd06-5950-469b-a822-79ea7331b9c8",
   "metadata": {},
   "outputs": [
    {
     "data": {
      "text/plain": [
       "resnet(\n",
       "  (model): ResNet(\n",
       "    (conv1): Conv2d(3, 64, kernel_size=(7, 7), stride=(2, 2), padding=(3, 3), bias=False)\n",
       "    (bn1): BatchNorm2d(64, eps=1e-05, momentum=0.1, affine=True, track_running_stats=True)\n",
       "    (relu): ReLU(inplace=True)\n",
       "    (maxpool): MaxPool2d(kernel_size=3, stride=2, padding=1, dilation=1, ceil_mode=False)\n",
       "    (layer1): Sequential(\n",
       "      (0): BasicBlock(\n",
       "        (conv1): Conv2d(64, 64, kernel_size=(3, 3), stride=(1, 1), padding=(1, 1), bias=False)\n",
       "        (bn1): BatchNorm2d(64, eps=1e-05, momentum=0.1, affine=True, track_running_stats=True)\n",
       "        (relu): ReLU(inplace=True)\n",
       "        (conv2): Conv2d(64, 64, kernel_size=(3, 3), stride=(1, 1), padding=(1, 1), bias=False)\n",
       "        (bn2): BatchNorm2d(64, eps=1e-05, momentum=0.1, affine=True, track_running_stats=True)\n",
       "      )\n",
       "      (1): BasicBlock(\n",
       "        (conv1): Conv2d(64, 64, kernel_size=(3, 3), stride=(1, 1), padding=(1, 1), bias=False)\n",
       "        (bn1): BatchNorm2d(64, eps=1e-05, momentum=0.1, affine=True, track_running_stats=True)\n",
       "        (relu): ReLU(inplace=True)\n",
       "        (conv2): Conv2d(64, 64, kernel_size=(3, 3), stride=(1, 1), padding=(1, 1), bias=False)\n",
       "        (bn2): BatchNorm2d(64, eps=1e-05, momentum=0.1, affine=True, track_running_stats=True)\n",
       "      )\n",
       "      (2): BasicBlock(\n",
       "        (conv1): Conv2d(64, 64, kernel_size=(3, 3), stride=(1, 1), padding=(1, 1), bias=False)\n",
       "        (bn1): BatchNorm2d(64, eps=1e-05, momentum=0.1, affine=True, track_running_stats=True)\n",
       "        (relu): ReLU(inplace=True)\n",
       "        (conv2): Conv2d(64, 64, kernel_size=(3, 3), stride=(1, 1), padding=(1, 1), bias=False)\n",
       "        (bn2): BatchNorm2d(64, eps=1e-05, momentum=0.1, affine=True, track_running_stats=True)\n",
       "      )\n",
       "    )\n",
       "    (layer2): Sequential(\n",
       "      (0): BasicBlock(\n",
       "        (conv1): Conv2d(64, 128, kernel_size=(3, 3), stride=(2, 2), padding=(1, 1), bias=False)\n",
       "        (bn1): BatchNorm2d(128, eps=1e-05, momentum=0.1, affine=True, track_running_stats=True)\n",
       "        (relu): ReLU(inplace=True)\n",
       "        (conv2): Conv2d(128, 128, kernel_size=(3, 3), stride=(1, 1), padding=(1, 1), bias=False)\n",
       "        (bn2): BatchNorm2d(128, eps=1e-05, momentum=0.1, affine=True, track_running_stats=True)\n",
       "        (downsample): Sequential(\n",
       "          (0): Conv2d(64, 128, kernel_size=(1, 1), stride=(2, 2), bias=False)\n",
       "          (1): BatchNorm2d(128, eps=1e-05, momentum=0.1, affine=True, track_running_stats=True)\n",
       "        )\n",
       "      )\n",
       "      (1): BasicBlock(\n",
       "        (conv1): Conv2d(128, 128, kernel_size=(3, 3), stride=(1, 1), padding=(1, 1), bias=False)\n",
       "        (bn1): BatchNorm2d(128, eps=1e-05, momentum=0.1, affine=True, track_running_stats=True)\n",
       "        (relu): ReLU(inplace=True)\n",
       "        (conv2): Conv2d(128, 128, kernel_size=(3, 3), stride=(1, 1), padding=(1, 1), bias=False)\n",
       "        (bn2): BatchNorm2d(128, eps=1e-05, momentum=0.1, affine=True, track_running_stats=True)\n",
       "      )\n",
       "      (2): BasicBlock(\n",
       "        (conv1): Conv2d(128, 128, kernel_size=(3, 3), stride=(1, 1), padding=(1, 1), bias=False)\n",
       "        (bn1): BatchNorm2d(128, eps=1e-05, momentum=0.1, affine=True, track_running_stats=True)\n",
       "        (relu): ReLU(inplace=True)\n",
       "        (conv2): Conv2d(128, 128, kernel_size=(3, 3), stride=(1, 1), padding=(1, 1), bias=False)\n",
       "        (bn2): BatchNorm2d(128, eps=1e-05, momentum=0.1, affine=True, track_running_stats=True)\n",
       "      )\n",
       "      (3): BasicBlock(\n",
       "        (conv1): Conv2d(128, 128, kernel_size=(3, 3), stride=(1, 1), padding=(1, 1), bias=False)\n",
       "        (bn1): BatchNorm2d(128, eps=1e-05, momentum=0.1, affine=True, track_running_stats=True)\n",
       "        (relu): ReLU(inplace=True)\n",
       "        (conv2): Conv2d(128, 128, kernel_size=(3, 3), stride=(1, 1), padding=(1, 1), bias=False)\n",
       "        (bn2): BatchNorm2d(128, eps=1e-05, momentum=0.1, affine=True, track_running_stats=True)\n",
       "      )\n",
       "    )\n",
       "    (layer3): Sequential(\n",
       "      (0): BasicBlock(\n",
       "        (conv1): Conv2d(128, 256, kernel_size=(3, 3), stride=(2, 2), padding=(1, 1), bias=False)\n",
       "        (bn1): BatchNorm2d(256, eps=1e-05, momentum=0.1, affine=True, track_running_stats=True)\n",
       "        (relu): ReLU(inplace=True)\n",
       "        (conv2): Conv2d(256, 256, kernel_size=(3, 3), stride=(1, 1), padding=(1, 1), bias=False)\n",
       "        (bn2): BatchNorm2d(256, eps=1e-05, momentum=0.1, affine=True, track_running_stats=True)\n",
       "        (downsample): Sequential(\n",
       "          (0): Conv2d(128, 256, kernel_size=(1, 1), stride=(2, 2), bias=False)\n",
       "          (1): BatchNorm2d(256, eps=1e-05, momentum=0.1, affine=True, track_running_stats=True)\n",
       "        )\n",
       "      )\n",
       "      (1): BasicBlock(\n",
       "        (conv1): Conv2d(256, 256, kernel_size=(3, 3), stride=(1, 1), padding=(1, 1), bias=False)\n",
       "        (bn1): BatchNorm2d(256, eps=1e-05, momentum=0.1, affine=True, track_running_stats=True)\n",
       "        (relu): ReLU(inplace=True)\n",
       "        (conv2): Conv2d(256, 256, kernel_size=(3, 3), stride=(1, 1), padding=(1, 1), bias=False)\n",
       "        (bn2): BatchNorm2d(256, eps=1e-05, momentum=0.1, affine=True, track_running_stats=True)\n",
       "      )\n",
       "      (2): BasicBlock(\n",
       "        (conv1): Conv2d(256, 256, kernel_size=(3, 3), stride=(1, 1), padding=(1, 1), bias=False)\n",
       "        (bn1): BatchNorm2d(256, eps=1e-05, momentum=0.1, affine=True, track_running_stats=True)\n",
       "        (relu): ReLU(inplace=True)\n",
       "        (conv2): Conv2d(256, 256, kernel_size=(3, 3), stride=(1, 1), padding=(1, 1), bias=False)\n",
       "        (bn2): BatchNorm2d(256, eps=1e-05, momentum=0.1, affine=True, track_running_stats=True)\n",
       "      )\n",
       "      (3): BasicBlock(\n",
       "        (conv1): Conv2d(256, 256, kernel_size=(3, 3), stride=(1, 1), padding=(1, 1), bias=False)\n",
       "        (bn1): BatchNorm2d(256, eps=1e-05, momentum=0.1, affine=True, track_running_stats=True)\n",
       "        (relu): ReLU(inplace=True)\n",
       "        (conv2): Conv2d(256, 256, kernel_size=(3, 3), stride=(1, 1), padding=(1, 1), bias=False)\n",
       "        (bn2): BatchNorm2d(256, eps=1e-05, momentum=0.1, affine=True, track_running_stats=True)\n",
       "      )\n",
       "      (4): BasicBlock(\n",
       "        (conv1): Conv2d(256, 256, kernel_size=(3, 3), stride=(1, 1), padding=(1, 1), bias=False)\n",
       "        (bn1): BatchNorm2d(256, eps=1e-05, momentum=0.1, affine=True, track_running_stats=True)\n",
       "        (relu): ReLU(inplace=True)\n",
       "        (conv2): Conv2d(256, 256, kernel_size=(3, 3), stride=(1, 1), padding=(1, 1), bias=False)\n",
       "        (bn2): BatchNorm2d(256, eps=1e-05, momentum=0.1, affine=True, track_running_stats=True)\n",
       "      )\n",
       "      (5): BasicBlock(\n",
       "        (conv1): Conv2d(256, 256, kernel_size=(3, 3), stride=(1, 1), padding=(1, 1), bias=False)\n",
       "        (bn1): BatchNorm2d(256, eps=1e-05, momentum=0.1, affine=True, track_running_stats=True)\n",
       "        (relu): ReLU(inplace=True)\n",
       "        (conv2): Conv2d(256, 256, kernel_size=(3, 3), stride=(1, 1), padding=(1, 1), bias=False)\n",
       "        (bn2): BatchNorm2d(256, eps=1e-05, momentum=0.1, affine=True, track_running_stats=True)\n",
       "      )\n",
       "    )\n",
       "    (layer4): Sequential(\n",
       "      (0): BasicBlock(\n",
       "        (conv1): Conv2d(256, 512, kernel_size=(3, 3), stride=(2, 2), padding=(1, 1), bias=False)\n",
       "        (bn1): BatchNorm2d(512, eps=1e-05, momentum=0.1, affine=True, track_running_stats=True)\n",
       "        (relu): ReLU(inplace=True)\n",
       "        (conv2): Conv2d(512, 512, kernel_size=(3, 3), stride=(1, 1), padding=(1, 1), bias=False)\n",
       "        (bn2): BatchNorm2d(512, eps=1e-05, momentum=0.1, affine=True, track_running_stats=True)\n",
       "        (downsample): Sequential(\n",
       "          (0): Conv2d(256, 512, kernel_size=(1, 1), stride=(2, 2), bias=False)\n",
       "          (1): BatchNorm2d(512, eps=1e-05, momentum=0.1, affine=True, track_running_stats=True)\n",
       "        )\n",
       "      )\n",
       "      (1): BasicBlock(\n",
       "        (conv1): Conv2d(512, 512, kernel_size=(3, 3), stride=(1, 1), padding=(1, 1), bias=False)\n",
       "        (bn1): BatchNorm2d(512, eps=1e-05, momentum=0.1, affine=True, track_running_stats=True)\n",
       "        (relu): ReLU(inplace=True)\n",
       "        (conv2): Conv2d(512, 512, kernel_size=(3, 3), stride=(1, 1), padding=(1, 1), bias=False)\n",
       "        (bn2): BatchNorm2d(512, eps=1e-05, momentum=0.1, affine=True, track_running_stats=True)\n",
       "      )\n",
       "      (2): BasicBlock(\n",
       "        (conv1): Conv2d(512, 512, kernel_size=(3, 3), stride=(1, 1), padding=(1, 1), bias=False)\n",
       "        (bn1): BatchNorm2d(512, eps=1e-05, momentum=0.1, affine=True, track_running_stats=True)\n",
       "        (relu): ReLU(inplace=True)\n",
       "        (conv2): Conv2d(512, 512, kernel_size=(3, 3), stride=(1, 1), padding=(1, 1), bias=False)\n",
       "        (bn2): BatchNorm2d(512, eps=1e-05, momentum=0.1, affine=True, track_running_stats=True)\n",
       "      )\n",
       "    )\n",
       "    (avgpool): AdaptiveAvgPool2d(output_size=(1, 1))\n",
       "    (fc): Linear(in_features=512, out_features=2, bias=True)\n",
       "  )\n",
       "  (softmax): Softmax(dim=1)\n",
       ")"
      ]
     },
     "execution_count": 68,
     "metadata": {},
     "output_type": "execute_result"
    }
   ],
   "source": [
    "model"
   ]
  },
  {
   "cell_type": "code",
   "execution_count": 69,
   "id": "16a090ea-bb34-4d3d-a127-b1190e8c416c",
   "metadata": {
    "tags": []
   },
   "outputs": [
    {
     "name": "stderr",
     "output_type": "stream",
     "text": [
      "1it [00:04,  4.75s/it]"
     ]
    },
    {
     "name": "stdout",
     "output_type": "stream",
     "text": [
      "tensor([[9.8997e-01, 1.0028e-02],\n",
      "        [9.8907e-01, 1.0928e-02],\n",
      "        [9.9752e-01, 2.4799e-03],\n",
      "        [9.6957e-01, 3.0426e-02],\n",
      "        [9.9867e-01, 1.3344e-03],\n",
      "        [3.1917e-01, 6.8083e-01],\n",
      "        [3.4838e-01, 6.5162e-01],\n",
      "        [7.8671e-01, 2.1329e-01],\n",
      "        [9.9983e-01, 1.6811e-04],\n",
      "        [6.3973e-01, 3.6027e-01],\n",
      "        [9.5679e-01, 4.3209e-02],\n",
      "        [9.9801e-01, 1.9934e-03],\n",
      "        [9.8997e-01, 1.0028e-02],\n",
      "        [9.9268e-01, 7.3174e-03],\n",
      "        [9.9277e-01, 7.2343e-03],\n",
      "        [9.0154e-01, 9.8465e-02],\n",
      "        [9.9533e-01, 4.6692e-03],\n",
      "        [9.9950e-01, 4.9963e-04],\n",
      "        [9.9921e-01, 7.8699e-04],\n",
      "        [9.1694e-01, 8.3062e-02],\n",
      "        [9.9903e-01, 9.7048e-04],\n",
      "        [9.5095e-01, 4.9046e-02],\n",
      "        [9.8212e-01, 1.7884e-02],\n",
      "        [9.8101e-01, 1.8992e-02],\n",
      "        [2.4091e-01, 7.5909e-01],\n",
      "        [9.9941e-01, 5.9143e-04],\n",
      "        [9.9929e-01, 7.0550e-04],\n",
      "        [8.9855e-01, 1.0145e-01],\n",
      "        [9.5757e-01, 4.2430e-02],\n",
      "        [4.4770e-01, 5.5230e-01],\n",
      "        [9.6992e-01, 3.0077e-02],\n",
      "        [7.9393e-02, 9.2061e-01]], device='cuda:0')\n"
     ]
    },
    {
     "name": "stderr",
     "output_type": "stream",
     "text": [
      "2it [00:09,  4.82s/it]"
     ]
    },
    {
     "name": "stdout",
     "output_type": "stream",
     "text": [
      "tensor([[9.9320e-01, 6.8046e-03],\n",
      "        [9.9757e-01, 2.4261e-03],\n",
      "        [9.9617e-01, 3.8259e-03],\n",
      "        [8.9642e-01, 1.0358e-01],\n",
      "        [9.9919e-01, 8.1079e-04],\n",
      "        [9.3421e-01, 6.5793e-02],\n",
      "        [4.3340e-01, 5.6660e-01],\n",
      "        [9.9190e-01, 8.1030e-03],\n",
      "        [8.0450e-01, 1.9550e-01],\n",
      "        [9.7884e-01, 2.1159e-02],\n",
      "        [9.4281e-01, 5.7190e-02],\n",
      "        [4.7838e-01, 5.2162e-01],\n",
      "        [9.8673e-01, 1.3270e-02],\n",
      "        [7.8232e-01, 2.1768e-01],\n",
      "        [8.7349e-01, 1.2651e-01],\n",
      "        [9.8500e-01, 1.4998e-02],\n",
      "        [9.9868e-01, 1.3217e-03],\n",
      "        [9.9958e-01, 4.2190e-04],\n",
      "        [8.3610e-01, 1.6390e-01],\n",
      "        [8.8604e-01, 1.1396e-01],\n",
      "        [7.6111e-01, 2.3889e-01],\n",
      "        [8.7095e-01, 1.2905e-01],\n",
      "        [9.9569e-01, 4.3096e-03],\n",
      "        [9.9883e-01, 1.1702e-03],\n",
      "        [9.6995e-01, 3.0048e-02],\n",
      "        [3.6338e-01, 6.3662e-01],\n",
      "        [9.9593e-01, 4.0749e-03],\n",
      "        [8.0133e-01, 1.9867e-01],\n",
      "        [8.8636e-01, 1.1364e-01],\n",
      "        [9.9967e-01, 3.3396e-04],\n",
      "        [9.9887e-01, 1.1345e-03],\n",
      "        [8.6215e-01, 1.3785e-01]], device='cuda:0')\n"
     ]
    },
    {
     "name": "stderr",
     "output_type": "stream",
     "text": [
      "3it [00:14,  4.87s/it]"
     ]
    },
    {
     "name": "stdout",
     "output_type": "stream",
     "text": [
      "tensor([[3.1600e-01, 6.8400e-01],\n",
      "        [3.0302e-01, 6.9698e-01],\n",
      "        [5.2504e-01, 4.7496e-01],\n",
      "        [9.8614e-01, 1.3860e-02],\n",
      "        [8.6422e-01, 1.3578e-01],\n",
      "        [9.8246e-01, 1.7538e-02],\n",
      "        [9.2874e-01, 7.1258e-02],\n",
      "        [9.9705e-01, 2.9484e-03],\n",
      "        [9.8754e-01, 1.2456e-02],\n",
      "        [9.9976e-01, 2.4121e-04],\n",
      "        [6.7099e-01, 3.2901e-01],\n",
      "        [9.8724e-01, 1.2755e-02],\n",
      "        [9.9674e-01, 3.2623e-03],\n",
      "        [9.9983e-01, 1.6677e-04],\n",
      "        [9.8505e-01, 1.4950e-02],\n",
      "        [7.1474e-01, 2.8526e-01],\n",
      "        [5.1726e-01, 4.8274e-01],\n",
      "        [9.6836e-01, 3.1636e-02],\n",
      "        [9.6484e-01, 3.5157e-02],\n",
      "        [9.5143e-01, 4.8572e-02],\n",
      "        [5.5089e-01, 4.4911e-01],\n",
      "        [7.0208e-01, 2.9792e-01],\n",
      "        [9.9268e-01, 7.3232e-03],\n",
      "        [6.0850e-01, 3.9150e-01],\n",
      "        [9.8533e-01, 1.4672e-02],\n",
      "        [9.2308e-01, 7.6921e-02],\n",
      "        [9.8590e-01, 1.4100e-02],\n",
      "        [9.5673e-01, 4.3266e-02],\n",
      "        [8.2431e-01, 1.7569e-01],\n",
      "        [9.1123e-02, 9.0888e-01],\n",
      "        [9.9914e-01, 8.5671e-04],\n",
      "        [9.8113e-01, 1.8868e-02]], device='cuda:0')\n"
     ]
    },
    {
     "name": "stderr",
     "output_type": "stream",
     "text": [
      "4it [00:15,  3.83s/it]"
     ]
    },
    {
     "name": "stdout",
     "output_type": "stream",
     "text": [
      "tensor([[0.9278, 0.0722],\n",
      "        [0.9481, 0.0519],\n",
      "        [0.9296, 0.0704],\n",
      "        [0.5746, 0.4254]], device='cuda:0')\n"
     ]
    },
    {
     "name": "stderr",
     "output_type": "stream",
     "text": [
      "\n"
     ]
    }
   ],
   "source": [
    "\n",
    "# Prediction\n",
    "file_lst = []\n",
    "pred_lst = []\n",
    "prob_lst = []\n",
    "model.eval()\n",
    "with torch.no_grad():\n",
    "    for batch_index, (img, file_num) in tqdm(enumerate(test_dataloader)):\n",
    "        img = img.to(DEVICE)\n",
    "        pred = model(img)\n",
    "        print(pred)\n",
    "        file_lst.extend(list(file_num))\n",
    "        pred_lst.extend(pred.argmax(dim=1).tolist())\n",
    "        prob_lst.extend(pred[:, 1].tolist())"
   ]
  },
  {
   "cell_type": "markdown",
   "id": "056169d1-64a8-4b81-8daf-722b029cf2b9",
   "metadata": {},
   "source": [
    "### 결과 저장"
   ]
  },
  {
   "cell_type": "code",
   "execution_count": 70,
   "id": "f133cd86-b87b-4f8b-ae0e-c240655ae9ff",
   "metadata": {},
   "outputs": [],
   "source": [
    "df = pd.DataFrame({'file_name':file_lst, 'COVID':pred_lst})\n",
    "# df.sort_values(by=['file_name'], inplace=True)\n",
    "df.to_csv('prediction_k.csv', index=False)"
   ]
  },
  {
   "cell_type": "code",
   "execution_count": null,
   "id": "bdd38bac-548c-4739-8627-0275a7e428a1",
   "metadata": {},
   "outputs": [],
   "source": []
  }
 ],
 "metadata": {
  "kernelspec": {
   "display_name": "Python 3 (ipykernel)",
   "language": "python",
   "name": "python3"
  },
  "language_info": {
   "codemirror_mode": {
    "name": "ipython",
    "version": 3
   },
   "file_extension": ".py",
   "mimetype": "text/x-python",
   "name": "python",
   "nbconvert_exporter": "python",
   "pygments_lexer": "ipython3",
   "version": "3.8.5"
  }
 },
 "nbformat": 4,
 "nbformat_minor": 5
}
